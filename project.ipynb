{
 "cells": [
  {
   "cell_type": "markdown",
   "metadata": {},
   "source": [
    "# AML 2304 Natural Language Processing Final Project\n",
    "# Twitter Likes Prediction\n",
    "#### Submitted by\n",
    "#### Mohammed Muzammil Lakdawala    (C0872315)\n",
    "#### Gurinder Singh                 (C0871566)\n",
    "#### Maryam Shokrollahi             (C0864597)\n",
    "#### Mohammed Fuwad Anjum           (C0867421)\n",
    "#### Gursimran Kaur                 (C0867039)"
   ]
  },
  {
   "cell_type": "code",
   "execution_count": 63,
   "metadata": {},
   "outputs": [],
   "source": [
    "# Dataset 1 (ElonMusk) Link -> https://mylambton-my.sharepoint.com/:x:/g/personal/c0872315_mylambton_ca/EWApuIC_3E9CoYNuEtD_wpgBnq2TXode7PfyNyCXSSvXsA?e=390Vpi\n",
    "# Dataset 2 (Drake) Link -> https://mylambton-my.sharepoint.com/:x:/g/personal/c0872315_mylambton_ca/EWA8aHzChCxBrcKehlKSGEIBGGrlUYO22AxUVdKu2gdcZA?e=x1Dbi1"
   ]
  },
  {
   "cell_type": "code",
   "execution_count": null,
   "metadata": {},
   "outputs": [],
   "source": [
    "import snscrape.modules.twitter as sntwitter\n",
    "import pandas as pd"
   ]
  },
  {
   "cell_type": "code",
   "execution_count": null,
   "metadata": {},
   "outputs": [
    {
     "name": "stderr",
     "output_type": "stream",
     "text": [
      "C:\\Users\\Admin\\AppData\\Local\\Temp\\ipykernel_21908\\823953246.py:5: DeprecatedFeatureWarning: content is deprecated, use rawContent instead\n",
      "  tweets_container.append([tweet.user.username, tweet.date, tweet.likeCount, tweet.sourceLabel, tweet.content, tweet.retweetCount, tweet.replyCount, tweet.viewCount])\n"
     ]
    }
   ],
   "source": [
    "tweets_container = []\n",
    "for i,tweet in enumerate(sntwitter.TwitterSearchScraper(f'from:ElonMusk').get_items()):\n",
    "        tweets_container.append([tweet.user.username, tweet.date, tweet.likeCount, tweet.sourceLabel, tweet.content, tweet.retweetCount, tweet.replyCount, tweet.viewCount])\n",
    "tweets_df = pd.DataFrame(tweets_container, columns=[\"User\", \"Date Created\", \"Number of Likes\", \"Source of Tweet\", \"Tweet\", \"ReTweet Count\", \"Reply Count\", \"View Count\"])\n",
    "tweets_df.to_csv(f'ElonMusk.csv')"
   ]
  },
  {
   "cell_type": "code",
   "execution_count": 1,
   "metadata": {},
   "outputs": [],
   "source": [
    "from sklearn.neural_network import MLPRegressor\n",
    "from nltk.stem.lancaster import LancasterStemmer\n",
    "from nltk.corpus import stopwords\n",
    "from nltk.sentiment.vader import SentimentIntensityAnalyzer\n",
    "from nltk import word_tokenize\n",
    "import re\n",
    "from operator import itemgetter\n",
    "import pandas as pd"
   ]
  },
  {
   "cell_type": "code",
   "execution_count": 2,
   "metadata": {},
   "outputs": [
    {
     "name": "stderr",
     "output_type": "stream",
     "text": [
      "[nltk_data] Downloading package vader_lexicon to\n",
      "[nltk_data]     C:\\Users\\Admin\\AppData\\Roaming\\nltk_data...\n",
      "[nltk_data]   Package vader_lexicon is already up-to-date!\n"
     ]
    },
    {
     "data": {
      "text/plain": [
       "True"
      ]
     },
     "execution_count": 2,
     "metadata": {},
     "output_type": "execute_result"
    }
   ],
   "source": [
    "import nltk\n",
    "nltk.download('vader_lexicon')"
   ]
  },
  {
   "cell_type": "code",
   "execution_count": 3,
   "metadata": {},
   "outputs": [],
   "source": [
    "def prepareSentence(s):\n",
    "    stemmer = LancasterStemmer()\n",
    "    ignore_words = set(stopwords.words('english'))\n",
    "    regpattern = re.compile('[\\W_]+\" \"')\n",
    "    s = re.sub('[^A-Za-z ]+', '', s)\n",
    "    words = word_tokenize(s.lower())\n",
    "    return [stemmer.stem(w.lower()) for w in words if w not in ignore_words]"
   ]
  },
  {
   "cell_type": "code",
   "execution_count": 4,
   "metadata": {},
   "outputs": [],
   "source": [
    "df = pd.read_csv('./ElonMusk.csv')"
   ]
  },
  {
   "cell_type": "code",
   "execution_count": 5,
   "metadata": {},
   "outputs": [
    {
     "data": {
      "text/html": [
       "<div>\n",
       "<style scoped>\n",
       "    .dataframe tbody tr th:only-of-type {\n",
       "        vertical-align: middle;\n",
       "    }\n",
       "\n",
       "    .dataframe tbody tr th {\n",
       "        vertical-align: top;\n",
       "    }\n",
       "\n",
       "    .dataframe thead th {\n",
       "        text-align: right;\n",
       "    }\n",
       "</style>\n",
       "<table border=\"1\" class=\"dataframe\">\n",
       "  <thead>\n",
       "    <tr style=\"text-align: right;\">\n",
       "      <th></th>\n",
       "      <th>Unnamed: 0</th>\n",
       "      <th>User</th>\n",
       "      <th>Date Created</th>\n",
       "      <th>Number of Likes</th>\n",
       "      <th>Source of Tweet</th>\n",
       "      <th>Tweet</th>\n",
       "      <th>ReTweet Count</th>\n",
       "      <th>Reply Count</th>\n",
       "      <th>View Count</th>\n",
       "    </tr>\n",
       "  </thead>\n",
       "  <tbody>\n",
       "    <tr>\n",
       "      <th>0</th>\n",
       "      <td>0</td>\n",
       "      <td>elonmusk</td>\n",
       "      <td>2023-04-06 20:31:24+00:00</td>\n",
       "      <td>1418</td>\n",
       "      <td>Twitter for iPhone</td>\n",
       "      <td>@DirtyTesLa We are gradually reducing it, prop...</td>\n",
       "      <td>126</td>\n",
       "      <td>331</td>\n",
       "      <td>206454.0</td>\n",
       "    </tr>\n",
       "    <tr>\n",
       "      <th>1</th>\n",
       "      <td>1</td>\n",
       "      <td>elonmusk</td>\n",
       "      <td>2023-04-06 20:26:19+00:00</td>\n",
       "      <td>1174</td>\n",
       "      <td>Twitter for iPhone</td>\n",
       "      <td>@GRDecter Any highly successful investor with ...</td>\n",
       "      <td>84</td>\n",
       "      <td>142</td>\n",
       "      <td>59256.0</td>\n",
       "    </tr>\n",
       "    <tr>\n",
       "      <th>2</th>\n",
       "      <td>2</td>\n",
       "      <td>elonmusk</td>\n",
       "      <td>2023-04-06 20:17:48+00:00</td>\n",
       "      <td>1947</td>\n",
       "      <td>Twitter for iPhone</td>\n",
       "      <td>@GRDecter Probably Buffett. He could do it usi...</td>\n",
       "      <td>155</td>\n",
       "      <td>161</td>\n",
       "      <td>72716.0</td>\n",
       "    </tr>\n",
       "    <tr>\n",
       "      <th>3</th>\n",
       "      <td>3</td>\n",
       "      <td>elonmusk</td>\n",
       "      <td>2023-04-06 20:15:32+00:00</td>\n",
       "      <td>1604</td>\n",
       "      <td>Twitter for iPhone</td>\n",
       "      <td>@cb_doge Actually, will add this app to my nam...</td>\n",
       "      <td>114</td>\n",
       "      <td>283</td>\n",
       "      <td>78871.0</td>\n",
       "    </tr>\n",
       "    <tr>\n",
       "      <th>4</th>\n",
       "      <td>4</td>\n",
       "      <td>elonmusk</td>\n",
       "      <td>2023-04-06 20:13:36+00:00</td>\n",
       "      <td>9968</td>\n",
       "      <td>Twitter for iPhone</td>\n",
       "      <td>@KanekoaTheGreat Is this real?</td>\n",
       "      <td>1260</td>\n",
       "      <td>1524</td>\n",
       "      <td>1290796.0</td>\n",
       "    </tr>\n",
       "  </tbody>\n",
       "</table>\n",
       "</div>"
      ],
      "text/plain": [
       "   Unnamed: 0      User               Date Created  Number of Likes  \\\n",
       "0           0  elonmusk  2023-04-06 20:31:24+00:00             1418   \n",
       "1           1  elonmusk  2023-04-06 20:26:19+00:00             1174   \n",
       "2           2  elonmusk  2023-04-06 20:17:48+00:00             1947   \n",
       "3           3  elonmusk  2023-04-06 20:15:32+00:00             1604   \n",
       "4           4  elonmusk  2023-04-06 20:13:36+00:00             9968   \n",
       "\n",
       "      Source of Tweet                                              Tweet  \\\n",
       "0  Twitter for iPhone  @DirtyTesLa We are gradually reducing it, prop...   \n",
       "1  Twitter for iPhone  @GRDecter Any highly successful investor with ...   \n",
       "2  Twitter for iPhone  @GRDecter Probably Buffett. He could do it usi...   \n",
       "3  Twitter for iPhone  @cb_doge Actually, will add this app to my nam...   \n",
       "4  Twitter for iPhone                     @KanekoaTheGreat Is this real?   \n",
       "\n",
       "   ReTweet Count  Reply Count  View Count  \n",
       "0            126          331    206454.0  \n",
       "1             84          142     59256.0  \n",
       "2            155          161     72716.0  \n",
       "3            114          283     78871.0  \n",
       "4           1260         1524   1290796.0  "
      ]
     },
     "execution_count": 5,
     "metadata": {},
     "output_type": "execute_result"
    }
   ],
   "source": [
    "df.head()"
   ]
  },
  {
   "cell_type": "code",
   "execution_count": 6,
   "metadata": {},
   "outputs": [
    {
     "data": {
      "text/plain": [
       "9"
      ]
     },
     "execution_count": 6,
     "metadata": {},
     "output_type": "execute_result"
    }
   ],
   "source": [
    "df['Source of Tweet'].nunique()"
   ]
  },
  {
   "cell_type": "code",
   "execution_count": 7,
   "metadata": {},
   "outputs": [],
   "source": [
    "df['Engagement'] = df['Number of Likes'] + df['ReTweet Count']"
   ]
  },
  {
   "cell_type": "code",
   "execution_count": 8,
   "metadata": {},
   "outputs": [
    {
     "data": {
      "text/html": [
       "<div>\n",
       "<style scoped>\n",
       "    .dataframe tbody tr th:only-of-type {\n",
       "        vertical-align: middle;\n",
       "    }\n",
       "\n",
       "    .dataframe tbody tr th {\n",
       "        vertical-align: top;\n",
       "    }\n",
       "\n",
       "    .dataframe thead th {\n",
       "        text-align: right;\n",
       "    }\n",
       "</style>\n",
       "<table border=\"1\" class=\"dataframe\">\n",
       "  <thead>\n",
       "    <tr style=\"text-align: right;\">\n",
       "      <th></th>\n",
       "      <th>Unnamed: 0</th>\n",
       "      <th>User</th>\n",
       "      <th>Date Created</th>\n",
       "      <th>Number of Likes</th>\n",
       "      <th>Source of Tweet</th>\n",
       "      <th>Tweet</th>\n",
       "      <th>ReTweet Count</th>\n",
       "      <th>Reply Count</th>\n",
       "      <th>View Count</th>\n",
       "      <th>Engagement</th>\n",
       "    </tr>\n",
       "  </thead>\n",
       "  <tbody>\n",
       "    <tr>\n",
       "      <th>0</th>\n",
       "      <td>0</td>\n",
       "      <td>elonmusk</td>\n",
       "      <td>2023-04-06 20:31:24+00:00</td>\n",
       "      <td>1418</td>\n",
       "      <td>Twitter for iPhone</td>\n",
       "      <td>@DirtyTesLa We are gradually reducing it, prop...</td>\n",
       "      <td>126</td>\n",
       "      <td>331</td>\n",
       "      <td>206454.0</td>\n",
       "      <td>1544</td>\n",
       "    </tr>\n",
       "    <tr>\n",
       "      <th>1</th>\n",
       "      <td>1</td>\n",
       "      <td>elonmusk</td>\n",
       "      <td>2023-04-06 20:26:19+00:00</td>\n",
       "      <td>1174</td>\n",
       "      <td>Twitter for iPhone</td>\n",
       "      <td>@GRDecter Any highly successful investor with ...</td>\n",
       "      <td>84</td>\n",
       "      <td>142</td>\n",
       "      <td>59256.0</td>\n",
       "      <td>1258</td>\n",
       "    </tr>\n",
       "    <tr>\n",
       "      <th>2</th>\n",
       "      <td>2</td>\n",
       "      <td>elonmusk</td>\n",
       "      <td>2023-04-06 20:17:48+00:00</td>\n",
       "      <td>1947</td>\n",
       "      <td>Twitter for iPhone</td>\n",
       "      <td>@GRDecter Probably Buffett. He could do it usi...</td>\n",
       "      <td>155</td>\n",
       "      <td>161</td>\n",
       "      <td>72716.0</td>\n",
       "      <td>2102</td>\n",
       "    </tr>\n",
       "    <tr>\n",
       "      <th>3</th>\n",
       "      <td>3</td>\n",
       "      <td>elonmusk</td>\n",
       "      <td>2023-04-06 20:15:32+00:00</td>\n",
       "      <td>1604</td>\n",
       "      <td>Twitter for iPhone</td>\n",
       "      <td>@cb_doge Actually, will add this app to my nam...</td>\n",
       "      <td>114</td>\n",
       "      <td>283</td>\n",
       "      <td>78871.0</td>\n",
       "      <td>1718</td>\n",
       "    </tr>\n",
       "    <tr>\n",
       "      <th>4</th>\n",
       "      <td>4</td>\n",
       "      <td>elonmusk</td>\n",
       "      <td>2023-04-06 20:13:36+00:00</td>\n",
       "      <td>9968</td>\n",
       "      <td>Twitter for iPhone</td>\n",
       "      <td>@KanekoaTheGreat Is this real?</td>\n",
       "      <td>1260</td>\n",
       "      <td>1524</td>\n",
       "      <td>1290796.0</td>\n",
       "      <td>11228</td>\n",
       "    </tr>\n",
       "  </tbody>\n",
       "</table>\n",
       "</div>"
      ],
      "text/plain": [
       "   Unnamed: 0      User               Date Created  Number of Likes  \\\n",
       "0           0  elonmusk  2023-04-06 20:31:24+00:00             1418   \n",
       "1           1  elonmusk  2023-04-06 20:26:19+00:00             1174   \n",
       "2           2  elonmusk  2023-04-06 20:17:48+00:00             1947   \n",
       "3           3  elonmusk  2023-04-06 20:15:32+00:00             1604   \n",
       "4           4  elonmusk  2023-04-06 20:13:36+00:00             9968   \n",
       "\n",
       "      Source of Tweet                                              Tweet  \\\n",
       "0  Twitter for iPhone  @DirtyTesLa We are gradually reducing it, prop...   \n",
       "1  Twitter for iPhone  @GRDecter Any highly successful investor with ...   \n",
       "2  Twitter for iPhone  @GRDecter Probably Buffett. He could do it usi...   \n",
       "3  Twitter for iPhone  @cb_doge Actually, will add this app to my nam...   \n",
       "4  Twitter for iPhone                     @KanekoaTheGreat Is this real?   \n",
       "\n",
       "   ReTweet Count  Reply Count  View Count  Engagement  \n",
       "0            126          331    206454.0        1544  \n",
       "1             84          142     59256.0        1258  \n",
       "2            155          161     72716.0        2102  \n",
       "3            114          283     78871.0        1718  \n",
       "4           1260         1524   1290796.0       11228  "
      ]
     },
     "execution_count": 8,
     "metadata": {},
     "output_type": "execute_result"
    }
   ],
   "source": [
    "df.head()"
   ]
  },
  {
   "cell_type": "code",
   "execution_count": 9,
   "metadata": {},
   "outputs": [],
   "source": [
    "analyzer = SentimentIntensityAnalyzer()"
   ]
  },
  {
   "cell_type": "code",
   "execution_count": 10,
   "metadata": {},
   "outputs": [],
   "source": [
    "df['compound'] = [analyzer.polarity_scores(x)['compound'] for x in df['Tweet']]\n",
    "df['neg'] = [analyzer.polarity_scores(x)['neg'] for x in df['Tweet']]\n",
    "df['neu'] = [analyzer.polarity_scores(x)['neu'] for x in df['Tweet']]\n",
    "df['pos'] = [analyzer.polarity_scores(x)['pos'] for x in df['Tweet']]\n"
   ]
  },
  {
   "cell_type": "code",
   "execution_count": 11,
   "metadata": {},
   "outputs": [],
   "source": [
    "tweets = list(df.Tweet)"
   ]
  },
  {
   "cell_type": "code",
   "execution_count": 12,
   "metadata": {},
   "outputs": [
    {
     "data": {
      "text/plain": [
       "['@DirtyTesLa We are gradually reducing it, proportionate to improved safety',\n",
       " '@GRDecter Any highly successful investor with a long track record would do a good job – the job is essentially fund management at scale',\n",
       " '@GRDecter Probably Buffett. He could do it using less than an hour’s time per week.',\n",
       " '@cb_doge Actually, will add this app to my name in the meantime',\n",
       " '@KanekoaTheGreat Is this real?',\n",
       " '@MuskUniversity 2008 was hell',\n",
       " '@cb_doge As soon as we finish functionality for multi-org affiliation',\n",
       " '@RubinReport @ChristinaPushaw @MiamiHerald If they’re misleading the public, @CommunityNotes will correct them',\n",
       " '@TitterDaily Almost all major organizations are in process of rolling out affiliate badges. \\n\\nThis is very important for protecting users against sophisticated impersonation scams.',\n",
       " '@NASAWebb Best pic of Uranus ever',\n",
       " '@GRDecter 🎯',\n",
       " '@cb_doge Fact check: correct',\n",
       " '@NASA @NASAWebb Good one 🤣🤣',\n",
       " '@SciGuySpace They need to make reusable rockets',\n",
       " '@DrJimFan Yup',\n",
       " '@cb_doge Cool',\n",
       " '@BillyM2k Exactly',\n",
       " '@paulg I love fashion tbh',\n",
       " '@TrungTPhan 🤣',\n",
       " '@kaschuta What is surprising is that so few people realize this.\\n\\nIndividuals should always wonder who wrote the software running in their head. \\n\\nDon’t be an NPC.',\n",
       " '@farzyness 🤔',\n",
       " 'Starship preparing for launch  🚀 https://t.co/M1pR8rsmYt',\n",
       " '@BoredElonMusk Wow, the critics are so disconnected from reality!',\n",
       " '@waitbutwhy 💯',\n",
       " '@WallStreetSilv It is for me',\n",
       " '@MuskUniversity And Tesla is getting it done',\n",
       " '@dogeofficialceo 🤣',\n",
       " '@andst7 Fermi was incredible. \\n\\nI like that he cared that we see no evidence of  aliens. It is a fundamental question about the nature of the universe.',\n",
       " '@alx @CommunityNotes @GlennKesslerWP Maybe a link under the account name to the list of Community Notes of an account that is frequently posting incorrect information',\n",
       " '@jakeshieldsajj Very sorry to hear that. Many people I know have been severely assaulted.\\n\\nViolent crime in SF is horrific and even if attackers are caught, they are often released immediately.\\n\\nIs the city taking stronger action to incarcerate repeat violent offenders @BrookeJenkinsSF?',\n",
       " '@Chad_Hurley 🔥 comments',\n",
       " '@Chad_Hurley Of 💦',\n",
       " '@BogusThought 🤣',\n",
       " '@bennyjohnson @NPR Seems accurate https://t.co/nx5TmJY7GX',\n",
       " '@jjvincent lol',\n",
       " '@Umbisam Brand is the cumulative perception of a company’s products over time',\n",
       " 'Summary of argument against AI safety https://t.co/Vmg4yJm22Y',\n",
       " '@TitterDaily First I’ve heard about this. Did they identify what content they’re concerned about?',\n",
       " '@AdamLowisz @David_Leavitt @BillyM2k Agreed. The moral guiding star should be to stop racism, not replace one form of it with another, as some have done.',\n",
       " '@TEQNiKG @David_Leavitt @BillyM2k 🤣',\n",
       " '@jachiam0 Very true',\n",
       " '@David_Leavitt @BillyM2k The rules are consistent. Even though I think you’re awful and I consider Billy Markus to be a friend, he still had to delete his post or be suspended.',\n",
       " '@SenSchumer To avoid losing the trust of the American public, it is important that our justice system pursue Democrats and Republicans with equal vigor.\\n\\nWhichever party most puts justice before nepotism is the one that deserves trust.',\n",
       " '@ShellenbergerMD !',\n",
       " '@TheBabylonBee 🤣🤣',\n",
       " '@SawyerMerritt @Tesla Tesla will continue to use outside litigators, but it’s important to build a powerful litigation team internally, so that we’re not always on the defensive. \\n\\nWe’ll also go after the Wall St short-sellers, certain law firms &amp; (sometimes) corrupt regulators who are the true evil.',\n",
       " '@TheBabylonBee 🤣',\n",
       " 'If the Dem Party had a time machine https://t.co/a1QE7JcGLB',\n",
       " '@yhazony straing daze theze r',\n",
       " '@krishnanrohit True',\n",
       " '@alyssamvance 🤣 true',\n",
       " '@planet4589 Spending time in deep space doesn’t seem to affect lifespan',\n",
       " '@ikristoph @brickroad7 Team is closing the loop on interventions very rapidly. To get enough training examples for potential serious accidents, we have to run them in sim, as we have so few in the fleet, despite doing ~1M miles per day of FSD.',\n",
       " '@brickroad7 Yup, happening in plain sight',\n",
       " '@EvaFoxU ⚠️',\n",
       " '@cb_doge I’ve been saying this for over a decade',\n",
       " '@BillyM2k Very true',\n",
       " '@Jason Probably correct',\n",
       " '@WholeMarsBlog If we had been allowed to introduce new evidence, the verdict would’ve been zero imo.\\n\\nJury did the best they could with the information they had. I respect the decision.',\n",
       " '@LanceUlanoff 🤣',\n",
       " '@eCash1337 @TheRabbitHole84 🤣',\n",
       " '@TheRabbitHole84 Wise words. The technology finally exists to change that.',\n",
       " '@andst7 @CommunityNotes Thanks for the correction',\n",
       " '@jborg_arts Why would anyone who doesn’t live in New York care about their times!? I’m confused.',\n",
       " '@TheRabbitHole84 They voluntarily did exactly what I wanted them to do https://t.co/MqOSLaXk7l',\n",
       " '@arjansiddhpura @kcoleman @ScottAdamsSays Yes',\n",
       " '@TheRabbitHole84 It is media’s control of what to write about in the first place that is far more insidious than having some facts wrong in an article',\n",
       " '@mayemusk 🤣',\n",
       " '@dogeofficialceo 😎',\n",
       " '@JoeyMooose Nope',\n",
       " '@ylecun 😑',\n",
       " 'I wish the media would stop flattering me all time … it’s a bit much guys ☺️',\n",
       " '@Chad_Hurley Video too',\n",
       " '@Chad_Hurley 💯',\n",
       " '@ShellenbergerMD Interesting',\n",
       " '@KanekoaTheGreat Wow',\n",
       " '@BillFOXLA @HildaSolis @LindseyPHorvath !',\n",
       " '@TheRabbitHole84 !',\n",
       " 'As promised https://t.co/Jc1TnAqxAV',\n",
       " '@PeterDiamandis @cb_doge I ate three times body weight in donuts!',\n",
       " 'https://t.co/wmN5WxUhfQ',\n",
       " '@dogeofficialceo Nice',\n",
       " 'They should really get rid of that 100 IQ maximum limit for creating an account on Instagram',\n",
       " '@DavidSacks Concur',\n",
       " '@TheBabylonBee 🤣',\n",
       " 'MetamorphosisAI https://t.co/GvZ2etBfPL',\n",
       " '@boringcompany @TUM_Boring Well done!',\n",
       " '@ylecun Actually, airplanes used to crash frequently!\\n\\nEventually, so many people died that the FAA was created to ensure that commercial aircraft makers &amp; airlines didn’t cut corners on safety. \\n\\nNow, flying on an airliner in America is super safe.\\n\\nhttps://t.co/WCs2IuMyGb',\n",
       " '@andst7 @aagalloni Good question',\n",
       " '@Austen @CommunityNotes Critically, Community Notes applies equally to every account on this platform without exception, including world leaders &amp; our biggest advertisers',\n",
       " 'Credit to Tim Sweeney for realizing this before me',\n",
       " '@TimSweeneyEpic 💯',\n",
       " '@cb_doge 🤣',\n",
       " '@Austen Once a writer gets Noted a few times, they usually try a lot harder to be truthful, which greatly amplifies the positive effect of @CommunityNotes',\n",
       " '@cb_doge True',\n",
       " '@micsolana 😌',\n",
       " '@Scobleizer Some of the AI art is incredible &amp; it keeps getting better!',\n",
       " '@BillyM2k Your feed is great',\n",
       " '@SpaceForceCSO @SemperCitiusSDA Thank you for entrusting @SpaceX with this mission',\n",
       " '@Reuters “Deceptive headline backfires on Reuters”',\n",
       " '@Rainmaker1973 Can I interest you in a tunnel, perhaps? @boringcompany',\n",
       " '@GRRMspeaking 🐉 🔥',\n",
       " '@buccocapital Whoa',\n",
       " 'https://t.co/Cp7efOUIPu',\n",
       " '@dogeofficialceo lol',\n",
       " '@all_in_tok @DavidSacks @MarkWarner Very concerning',\n",
       " 'Great interview on AI',\n",
       " '@Chad_Hurley Hallelujah 🙌',\n",
       " '@dogeofficialceo @nytimes NY Times is being incredible hypocritical here, as they are super aggressive about forcing everyone to pay *their* subscription',\n",
       " '@TesLatino @Tesla FSD is getting really good',\n",
       " '@N__1__7 @Rainmaker1973 Yeah, above ground upside down pyramid should connect to an underground pyramid. Would be sick.',\n",
       " 'Feels like the future',\n",
       " 'Walked whole Cybertruck production line at Giga Texas for several hours earlier today – gonna be awesome!',\n",
       " '@Rainmaker1973 These are great',\n",
       " '@unusual_whales True',\n",
       " '@TrungTPhan Verification of accounts will help a lot. We are adding date of verification to the profile. \\n\\nNote, only date since paid verification counts, since there was so much corruption in the past with legacy checkmarks.',\n",
       " '@Scobleizer Ok',\n",
       " 'Also, their feed is the Twitter equivalent of diarrhea. It’s unreadable.\\n\\nThey would have far more real followers if they only posted their top articles. \\n\\nSame applies to all publications.',\n",
       " '@cb_doge $7 is a small price for freedom',\n",
       " '@freddiesayers If there were in fact such an epidemic, the White House &amp; every newspaper in the western hemisphere would shout each case from the rooftops!\\n\\nThere isn’t one.',\n",
       " '@PeterDiamandis What future do you want?',\n",
       " '@BillyM2k @AndrewYang 🔥🔥',\n",
       " '@JeffTutorials @nytimes This',\n",
       " '@ajlamesa Sounds familiar',\n",
       " 'The real tragedy of @NYTimes is that their propaganda isn’t even interesting',\n",
       " '♥️♥️ @CommunityNotes ♥️♥️',\n",
       " '@BillyM2k @waitbutwhy Billionaires suck lol',\n",
       " '@alx @GlennKesslerWP @CommunityNotes Tell me this isn’t the best $8 you’ve ever spent 🤣🔥',\n",
       " '@JTLonsdale Yup',\n",
       " '@cb_doge Oh ok, we’ll take it off then',\n",
       " '@slashdot San Francisco cooked its golden geese. Now the Golden State risks doing the same.\\n\\nBetter to collect the golden eggs forever than eat the goose once.',\n",
       " '@DrJBhattacharya You were a significant enough to be blacklisted, but allegedly not enough to be verified. They lied. In reality, it was just partisan censorship / propaganda.',\n",
       " '@Rainmaker1973 The White House is just a small cottage. We need to move on!',\n",
       " '@Rainmaker1973 We should build a new presidential office in the shape of a giant upside down pyramid!\\n\\nSure, they’ve built normal pyramids before, but a giant upside down pyramid? That takes advanced technology.',\n",
       " '@DavidSacks Our algorithm is obviously horrendous, but it will get better fast and in full view of the public, whose trust we must earn',\n",
       " '@DrJBhattacharya @ajlamesa The eagerness of English to add foreign words has contributed greatly to its success!\\n\\nThis is a great podcast: https://t.co/ld0DzE0y7j',\n",
       " '@DrJBhattacharya @ajlamesa How much English is used in Italy? We love adding Italian words to our vocabulary!',\n",
       " '@jowyang @ClementDelangue Wow',\n",
       " '@DrJBhattacharya If an account is permanently suspended, all its activity is removed',\n",
       " '@cb_doge Exactly',\n",
       " '@cb_doge A little sugar is fine',\n",
       " '@cb_doge Oh … the irony',\n",
       " '@Jason Naughtius Maximus?',\n",
       " '@cb_doge Yes',\n",
       " '@EvaFoxU Inspiration for the @boringcompany (not a) flamethrower!',\n",
       " '@JanJekielek @boriquagato Agreed',\n",
       " '@Supreme_Owl_FTW @ashleevance Extremely concerning, given that it leads to a dystopian future – just walk around downtown SF to see what will happen',\n",
       " '@ylecun @erikbryn Aerospace safety is overseen by the FAA, because people had had enough of dying due to shoddy manufacturing &amp; maintenance, but there is no agency overseeing AI at all.',\n",
       " '@park2power @Erdayastronaut @WR4NYGov @_BRCooper Geo direct mission',\n",
       " '@boriquagato Who is behind these botnets? \\n\\nMillion dollar bounty if convicted.',\n",
       " '@PeterDiamandis @drmarkhyman I recommend having 1/4 to 1/2 of an epic donut 🍩 It’s diminishing returns after the first few bites.',\n",
       " '@BillyM2k 📱 + ☕️',\n",
       " '@SciGuySpace More than days away, but hopefully not many weeks away',\n",
       " '@ashleevance You could literally film a Walking Dead episode unedited in downtown SF.\\n\\nThis is where San Francisco politics leads and Twitter was exporting this self-destructive mind virus to the world.\\n\\nWith some exceptions, other tech companies are still doing so. \\n\\nEvil in guise of good.',\n",
       " '@ashleevance 💯',\n",
       " '@DavidSacks They know they cannot defend what their algorithm actually does, so they will keep it closed',\n",
       " '@PeterDiamandis Ok fine AI should do fashion it’s awesome',\n",
       " '@GlennKesslerWP Only thing on fire are Kessler’s pants',\n",
       " '@gaborgurbacs Steak is great too!',\n",
       " '@GlennKesslerWP “Incendiary” 🤣🤣 🔥🔥',\n",
       " 'Me after 1 day of not eating sugar https://t.co/BP0dqyvcg1',\n",
       " '@MuskUniversity Yeah!!',\n",
       " '@cb_doge @PeterDiamandis @drmarkhyman Somehow, I’m still alive, despite having ice cream since I was a child. It’s a miracle!',\n",
       " '@PeterDiamandis @drmarkhyman Sorry, that’s just the donut talking',\n",
       " '@PeterDiamandis @drmarkhyman Also, that doc looks pretty old for someone who’s only age 25',\n",
       " '@PeterDiamandis @drmarkhyman Sugar is awesome 😎',\n",
       " 'Wait for it …',\n",
       " 'This is most of the recommendation code. In the coming weeks, we will open source literally everything that contributes to showing a tweet, such that the output can be at least roughly approximated.',\n",
       " '@BillyM2k @ericzhu105 !',\n",
       " '@szymonkopec @petergyang Should be &amp; will be',\n",
       " '@ZubyMusic Someone should make a movie about that',\n",
       " '@TitterDaily Avoiding dystopian outcomes is not easy. \\n\\nThe intent is not for the algorithm to be some judgy moral arbiter, but rather that it do its best to inform &amp; entertain.\\n\\nTrying to maximize unregretted user-minutes seems like the right objective.',\n",
       " '@TitterDaily It will',\n",
       " '@sterlingcrispin I will die in America (or Mars if lucky)',\n",
       " '@BillyM2k Yeah!',\n",
       " 'Don’t Look Up … but AGI instead of comet',\n",
       " '@ylecun According to my biological NNs, AI existential risk to humanity is non-trivial',\n",
       " '@buccocapital 🔥🔥',\n",
       " 'We live in the most interesting of times',\n",
       " '@ylecun You really think AI is a single-edged sword?',\n",
       " '@miketx95 @BillyM2k So are we lol',\n",
       " '@BillyM2k 🙋\\u200d♂️',\n",
       " '@unusual_whales Big reckoning coming due to low birth rate. Japan is a leading indicator.',\n",
       " '@Liv_Boeree Great concept',\n",
       " '@deepwhitman @ThePrimeagen 💯🤣\\n\\nBut we are deleting this bs. I only learned about it now! Will be gone by tomorrow.',\n",
       " 'Twitter will be updating its recommendation algorithm based on user suggestions every 24 to 48 hours',\n",
       " '@WallStreetSilv Most important, Twitter is never boring!',\n",
       " '@WallStreetSilv Yup',\n",
       " 'Twitter open source Spaces discussion happening now!\\n https://t.co/VpS6frbOhT',\n",
       " '@growing_daniel SBF is co-commander of the human side. That’s how you can tell it’s fake.',\n",
       " 'Twitter recommendation source code now available to all on GitHub \\nhttps://t.co/9ozsyZANwa',\n",
       " '@rowancheung The AI carousel spins ever faster',\n",
       " 'Most of the recommendation algorithm will be made open source today. The rest will follow.\\n\\nAcid test is that independent third parties should be able to determine, with reasonable accuracy, what will probably be shown to users.\\n\\nNo doubt, many embarrassing issues will be…',\n",
       " '@TrungTPhan 🤣',\n",
       " '@chiogb66 💯',\n",
       " '@Chad_Hurley It will matter if we extend consciousness to the stars',\n",
       " 'Just borrowed my friend’s jacket wdyt?',\n",
       " '@westcoastbill Trying to figure out if it’s possible',\n",
       " 'https://t.co/qviPxhX7n8',\n",
       " '@dogeofficialceo Nice',\n",
       " '@FitFounder 🔥',\n",
       " '@PeterDiamandis It’s not boring, that’s for sure!',\n",
       " '@FoxNews WHO is being Captain Obvious here, but kudos nonetheless',\n",
       " '@DavidSacks @Jason Al Capone',\n",
       " '@poast_bridau 🔥🔥',\n",
       " '@nypost Please make this outfit real',\n",
       " '@nichegamer Really that good?',\n",
       " '@Rainmaker1973 That was a good add',\n",
       " 'Works (almost) every time',\n",
       " '@SciGuySpace Yeah',\n",
       " '@WorldAndScience With extreme difficulty',\n",
       " '@WholeMarsBlog @RealDanODowd He has issues',\n",
       " '@ZubyMusic It is (sigh)',\n",
       " '@DrJBhattacharya Absolutely',\n",
       " '@mattyglesias Wow',\n",
       " '@KanekoaTheGreat @JeffLandry Very concerning',\n",
       " '@mattyglesias !',\n",
       " '@PeterDiamandis The most powerful mental tool',\n",
       " '@jordanbpeterson I feel fine',\n",
       " 'Algorithm goes open source at noon Pacific Time',\n",
       " 'If you don’t like reality, just ignore it',\n",
       " '@mtaibbi The most entertaining outcome is the most likely',\n",
       " '@robbystarbuck @ellagirwin @alx @seanmdav I agree',\n",
       " '@Hastes You will be able to see it on the tweet details page',\n",
       " 'Important to establish whether someone actually belongs to an organization or not so as to avoid impersonation',\n",
       " '@Rainmaker1973 Best plane ever',\n",
       " '@robbystarbuck @ellagirwin We fixed it fast',\n",
       " '@mtaibbi 🤣',\n",
       " '@iamharaldur !',\n",
       " '@Galaxygamerone Coming soon',\n",
       " '@Tesmanian_com It will per vehicle',\n",
       " '@TPostMillennial !!',\n",
       " 'Old joke about agnostic technologists building artificial super intelligence to find out if there’s a God.\\n\\nThey finally finish &amp; ask the question.\\n\\nAI replies: “There is now, mfs!!”',\n",
       " '@BillyM2k Makes me sad',\n",
       " '@GRDecter Combined with excess government spending, which forces other countries to absorb a significant part of our inflation',\n",
       " '@GRDecter Serious issue. US policy has been too heavy-handed, making countries want to ditch the dollar.',\n",
       " '@boringcompany Making progress!',\n",
       " '@andst7 🤣',\n",
       " '@EvaFoxU 6 years ago',\n",
       " '@iheartmindy This deserves close scrutiny 🧐',\n",
       " '@BillyM2k AI optimizing for the greatest understanding of the universe might be the right objective. Eliminating or stunting human civilization would reduce understanding.',\n",
       " '@Jason Yeah',\n",
       " '@TwitterSafety Given that there are ~500 million tweets per day, making individual human review impossible, this is the most salient point.\\n\\nOne possible mitigation is a shorter suspension of 6 hours instead of 12.',\n",
       " '@TheChiefNerd Leading AGI developers will not heed this warning, but at least it was said',\n",
       " '@TeslaDiva99 Tesla car temp is automatically kept within a safe range, even when the car appears “off”, in order to protect infants &amp; pets.\\n\\nThat said, it would be more convenient to keep the car “on” for entertainment &amp; comfort if the camera detects occupants. We will make that change.',\n",
       " '@george__mack I thought both SpaceX and Tesla each had less then a 10% chance of success',\n",
       " 'Forgot to mention that accounts you follow directly will also be in For You, since you have explicitly asked for them',\n",
       " '@PeterDiamandis I eat a donut every morning. Still alive.',\n",
       " '@alx 😢',\n",
       " '@AlphaSignalAI @geoffreyhinton Great interview with CBC &amp; Geoff!\\n\\nWe live for only ~3B seconds, which is just a tiny flash in the pan by cosmological standards.',\n",
       " '@Robber_Baron_ Troubling thread',\n",
       " '@BillyM2k https://t.co/rCaL3vx58Y',\n",
       " '@ThePrashanthCB @dogeofficialceo I hear you, but we’re not getting to Mars if civilization falls apart before then!',\n",
       " '@dogeofficialceo Where is Elvis these days?',\n",
       " '@WSJ Nature is healing',\n",
       " '@ylecun Vision',\n",
       " '@MatthewDR @klwtts Perhaps better than a Y in turning',\n",
       " '@whstancil Notes ftw again',\n",
       " '@george__mack An aging population is part of it',\n",
       " '@george__mack Impressive',\n",
       " '@george__mack @DKThomp The media is a click-machine, not a truth-machine. Incentives …',\n",
       " '@george__mack !!',\n",
       " 'https://t.co/VGRXRwffxI',\n",
       " 'Of course, you need to have good customer service for money. \\n\\nWorking on it …',\n",
       " '@VivaLaAmes11 @catturd2 Only $7 via web!',\n",
       " '@uncle_deluge The most ironic outcome is the most likely',\n",
       " 'I’m old enough to remember https://t.co/q7uY7rhEY4',\n",
       " '@cb_doge Trying my best for the humans',\n",
       " '@BillyM2k @TheCriticalDri2 Major respect for Cavill',\n",
       " '@emollick @calebwatney 💅',\n",
       " '@tszzl Just keep moving that goalpost! https://t.co/yEo9GIxMj9',\n",
       " '@ylecun AI yai yai!',\n",
       " '@ZaleskiLuke $7',\n",
       " '@farzyness Wild times ahead for sure!',\n",
       " '@Oni_Omoile 👋',\n",
       " 'That said, it’s ok to have verified bot accounts if they follow terms of service &amp; don’t impersonate a human',\n",
       " '@Culture_Crit Walter Chrysler had great style',\n",
       " '@CuteMonsterDad $7',\n",
       " '@WallStreetSilv Accurate',\n",
       " '@ScottAtlas_IT Countries should make their own decisions!',\n",
       " '@TeslaHype 🙌',\n",
       " '@isabelleboemeke @TrungTPhan That jacket is 🔥🔥',\n",
       " '@GRDecter Wow',\n",
       " '@videotech_ My prediction is that this will be the only platform you can trust',\n",
       " '@swyx Karma is real',\n",
       " '@ShellenbergerMD @mtaibbi That’s very odd',\n",
       " '@GAINNowAmerica Not having a massive short position against Tesla would be a step in the right direction!',\n",
       " '@EvaFoxU @BillyM2k !',\n",
       " '@unusual_whales Phew, I can finally sleep at night',\n",
       " 'Starting April 15th, only verified accounts will be eligible to be in For You recommendations.\\n\\nThe is the only realistic way to address advanced AI bot swarms taking over. It is otherwise a hopeless losing battle.\\n\\nVoting in polls will require verification for same reason.',\n",
       " '@BillyM2k These are wild times for sure!',\n",
       " '@KanekoaTheGreat @ggreenwald @glennbeck @KimDotcom @jimmy_dore 😬',\n",
       " '@GaryMarcus @geoffreyhinton 😬',\n",
       " '@bennyjohnson !',\n",
       " '@rowancheung This one seems problematic https://t.co/ivIGmQHjDH',\n",
       " '@PeterDiamandis Uh oh',\n",
       " '@greggertruck Cybertruck will change the look of the roads. Finally feels like the future.',\n",
       " '@heydave7 This is pure joy 🤩',\n",
       " '@paulg Yeah',\n",
       " 'The good old days https://t.co/BohnyiRj32',\n",
       " '@davidmweissman @PeterDiamandis https://t.co/pMkox989f5',\n",
       " '@SamTwits @POTUS @CommunityNotes No, descriptions should be accurate. If only a small segment of the right or left is pushing something, then it wouldn’t be correct to paint all of the left or right with that viewpoint.',\n",
       " '@ellagirwin @videotech_ Authenticator app is the way to go',\n",
       " '@BillyM2k @waitbutwhy 📈📉',\n",
       " '@WholeMarsBlog Great video!',\n",
       " '@PeterDiamandis Not so much in the banking sector rn',\n",
       " '@buccocapital 🤣',\n",
       " '@astro_greek @Tesla Very important',\n",
       " '@cb_doge That was wild',\n",
       " '@HumbleBitcoiner US foreign policy now dropping below bronze tier',\n",
       " '@POTUS Is it accurate to refer to those making the proposal as “extreme MAGA” @CommunityNotes?',\n",
       " '@sandykory I remember the early meetings with Gates. His understanding of AI was limited. Still is.',\n",
       " '@cz_binance True',\n",
       " '@DailyLoud Great jacket tbh',\n",
       " '@jordanbpeterson !!',\n",
       " 'To get Blue Check Verified for $7/month, sign up via web at https://t.co/JUTlIcVsSe',\n",
       " '@catturd2 It will be glorious 🚀 💫 💗',\n",
       " '@realdrewpage To get Blue Verified for $7/month, sign up via web browser at https://t.co/JUTlIcVsSe',\n",
       " '@walterezquie @Rainmaker1973 Name sure comes up a lot … https://t.co/gj9LLDlUj4',\n",
       " '@CatherinScience That we extend consciousness to the stars and understand the Universe',\n",
       " '@cb_doge Twitter is the news',\n",
       " '@Rainmaker1973 That’s what people who have the woke mind virus look like to me',\n",
       " '@Rainmaker1973 https://t.co/e4Ax5J449Z',\n",
       " '@Rainmaker1973 Reminds me of The Marker from Dead Space',\n",
       " '@dogeofficialceo 🤣',\n",
       " '@cb_doge Seriously',\n",
       " '@TheBabylonBee 🤣',\n",
       " '@kevinnbass The Lancet sold their soul years ago',\n",
       " '@CatholicVote @Riley_Gaines_ Shame on NCAA!',\n",
       " '@WholeMarsBlog Still a few legacy NNs using single cam, single frame that need to move to surround video',\n",
       " '@TD_Investor Or he could have just invested in Tesla at $200M market cap when he had the opportunity to do so',\n",
       " 'Given that modern AI can solve any “prove you’re not a robot” tests, it’s now trivial to spin up 100k human-like bots for less than a penny per account.\\n\\nPaid verification increases bot cost by ~10,000% &amp; makes it much easier to identify bots by phone &amp; CC clustering.\\n\\nObvious…',\n",
       " '@StewMama71 @HansMahncke Exactly',\n",
       " 'It’s more about treating everyone equally. There shouldn’t be a different standard for celebrities imo.',\n",
       " '@KobeissiLetter This is by far the most serious looming issue. Mortgages too.',\n",
       " '@wanda_hudson It’s close. One more round of refinement needed.',\n",
       " '@NPR Thank you for correcting yourself',\n",
       " '@erikbryn The most interesting times of all',\n",
       " '@TrungTPhan Good for him. He makes movies fun to watch.',\n",
       " '@EndWokeness 0% …',\n",
       " '@Altimor Exactly',\n",
       " '@blisstweeting 🔥🔥',\n",
       " '@HelpfulNotes Notes ftw',\n",
       " '@EndWokeness Well-said',\n",
       " 'Prescient',\n",
       " 'Blooper reel must be amazing https://t.co/Z1m3yhyvrQ',\n",
       " '@cb_doge OpenAI has strayed very far from the path of virtue https://t.co/FftFVp3Kco',\n",
       " '@george__mack @DKThomp The media is a click-seeking machine dressed as truth-seeking',\n",
       " '@george__mack Wow',\n",
       " '@DrJBhattacharya @KatherineEban @VanityFair Vanity Fair has lost its way ever since Graydon left',\n",
       " '@Jason True',\n",
       " '@cb_doge It’s a start',\n",
       " '@TheBabylonBee 🤣🤣',\n",
       " '@blovereviews Also … I would never wear that outfit',\n",
       " '@BillyM2k @CNN 💯',\n",
       " '@WallStreetSilv 🥜',\n",
       " '@KanekoaTheGreat @DavidSacks Accurate',\n",
       " '@KanekoaTheGreat @DavidSacks @glennbeck US foreign policy is bronze tier on a good day!',\n",
       " '@monitoringbias !!',\n",
       " '@stevenmarkryan Yes',\n",
       " '@mezaoptimizer @sama For now',\n",
       " '@TheBabylonBee 🤣🤣',\n",
       " '@Mrbankstips Absolutely',\n",
       " '@BillyM2k @OTerrifying 🤣',\n",
       " 'Big congratulations to the Tesla Germany team!!',\n",
       " '@TeslaHype 🔥🔥',\n",
       " '@jasondebolt Try using a List',\n",
       " '@cb_doge 🤣',\n",
       " '@TitterDaily Yeah, generally correct. \\n\\nTitter was trending to lose ~$3B/year (revenue drop of ~$1.5B + debt servicing of ~$1.5B) and had $1B in cash, so only 4 months of money. Extremely dire situation.\\n\\nNow that advertisers are returning, it looks like we will break even in Q2.',\n",
       " '@GavinSBaker @hubermanlab I never take notes',\n",
       " '@TeslaHype Indeed',\n",
       " '@SawyerMerritt Looking forward to it',\n",
       " '@WholeMarsBlog Competition has nothing to do with it. There are serious AI risk issues.',\n",
       " '@stillgray Interesting take',\n",
       " '@all_in_tok @DavidSacks Accurate',\n",
       " '@iamharaldur Those are the right questions to ask. They have been troubling me for many years.\\n\\nNeuralink was created as a possible long-term solution to human+AI symbiosis.',\n",
       " '20 launches done, 70+ for rest of year',\n",
       " '@BillyM2k 😬',\n",
       " 'No but how’s your day https://t.co/xlDkwgI373',\n",
       " '@wintonARK It is',\n",
       " 'I’m sure it will be fine https://t.co/JWsq62Qkru',\n",
       " '@ElectionLegal Her music is great',\n",
       " 'To get Blue Verified for $7/month, sign up via web browser at https://t.co/JUTlIcVsSe',\n",
       " 'Any individual person’s Twitter account affiliated with a verified organization is automatically verified',\n",
       " '@Teslarati @ResidentSponge Not true',\n",
       " 'Clippy is the real paperclip problem',\n",
       " '@KennethCassel 🔥',\n",
       " '@paulg The press is yesterday’s news – too slow for the modern era',\n",
       " '@TheBabylonBee 🤣🤣',\n",
       " '@SquawkCNBC He’s not wrong',\n",
       " '@mysteriouskat I donated the first $100M to OpenAI when it was a non-profit, but have no ownership or control',\n",
       " '@GRDecter This is the real problem. Many cities have high office vacancy rates.\\n\\nMortgage portfolios are at risk too if housing prices drop significantly.',\n",
       " '@nearcyan ChatGPT is entirely housed within Microsoft Azure. When push comes to shove, they have everything, including the model weights.',\n",
       " '@hiromichimizuno Good question. It somehow transitioned from an open source non-profit to a closed source for-profit.',\n",
       " 'As part of their investment, Microsoft gained exclusive access to the entire OpenAI codebase',\n",
       " 'Sure would be ironic if civilization ended because of a fight over browser/search market share',\n",
       " '@Liv_Boeree Extremely concerning',\n",
       " '@WholeMarsBlog They are great',\n",
       " '@Teslaconomics Yeah, not possible to make motorcycles safe',\n",
       " '@cb_doge This will be glorious 🤩',\n",
       " '@BillyM2k That will require a large island!',\n",
       " '@Chad_Hurley 👀',\n",
       " '@BillyM2k 🎶 Always look on the bright side of life! 🎶',\n",
       " 'Twitter Verified now available worldwide!',\n",
       " '@lexfridman Not many years from now',\n",
       " '@RepJeffries That’s what she said',\n",
       " '@POTUS Umm … the banks are melting',\n",
       " '@KanekoaTheGreat Countries should not cede authority to WHO',\n",
       " '@cb_doge Ok, but it will cost 3 Doge',\n",
       " '@EndWokeness !',\n",
       " '@cb_doge Some things are priceless',\n",
       " '@DanFoley1964 @tedcruz @mattgaetz @RonDeSantisFL Even though this clip is from 2005, it is still a super messed up thing to say',\n",
       " '@EvaFoxU 💯',\n",
       " '@DavidSacks 💯',\n",
       " '@WSBChairman @BillyM2k @WatcherGuru Couldn’t do worse!',\n",
       " '@StonksReddit JPow has Volker envy bigtime',\n",
       " '@planet4589 @VirtuallyNathan Lot of new technology in Starlink V2, so we’re experiencing some issues, as expected. \\n\\nSome sats will be deorbited, others will be tested thoroughly before raising altitude above Space Station.',\n",
       " '@BillyM2k @WatcherGuru A major driver of depositor flight is people moving money from low interest savings accounts to high interest money market (Treasury Bill) accounts.\\n\\nThis foolish rate hike will worsen depositor flight.',\n",
       " '@ConceptualJames 🤔',\n",
       " '@SamTwits It missed the mark. I hate hashtags.',\n",
       " '@dogeofficialceo 🤣',\n",
       " '@MatthewDR @MDouhne @TeslaBoomerMama @herbertong @farzyness @DillonLoomis22 @WholeMarsBlog @SawyerMerritt @4Kpodcast @live_munro Interesting thread',\n",
       " '@katecrawford @GoogleWorkspace lol',\n",
       " '@KanekoaTheGreat !',\n",
       " '@BillFOXLA Wow!',\n",
       " 'And if you have enough rooftop solar, you can go off grid for most of year in high latitudes &amp; whole year in low latitudes',\n",
       " 'Tesla Powerwall enables your home to operate normally during a power outage\\nhttps://t.co/tEE4LDCaWG',\n",
       " '@andst7 Very concerning',\n",
       " '@WallStreetSilv !',\n",
       " '@TwitterSafety This is a critical distinction. It’s obviously trivial for a single person to create 10k bot accounts on one computer, each of which is tweeting slurs that are written to avoid text string detection. What matters is whether those tweets are actually shown to real users.',\n",
       " '@howstuff_works 😋',\n",
       " '@ashleevance Nice doors',\n",
       " '@Teslaconomics Looking into it',\n",
       " 'Follow @HelpfulNotes to read highly rated @CommunityNotes',\n",
       " '@unusual_whales Absolutely required to stop bank runs',\n",
       " '@BillAckman @federalreserve Fed needs to drop the rate by at least 50bps on Wednesday',\n",
       " '@TheBabylonBee Insane that it remains zero after all this time',\n",
       " '@simplydt @TrungTPhan @Twitter And making it much easier for writers to charge subscription fees for premium content',\n",
       " '@simplydt @TrungTPhan @Twitter Increasing long form to 10k characters soon, along with simple formatting tools',\n",
       " '@Teslaconomics Def me',\n",
       " '@arctanno Japanese advertising is great',\n",
       " '@PeterDiamandis Money will probably be of low relevance when strong AI is widespread',\n",
       " '@TheBabylonBee 🤣',\n",
       " '@DrJBhattacharya Wisdom of the people ftw',\n",
       " '@stillgray Hard to explain the veto if a Dem Senate voted for the bill',\n",
       " 'https://t.co/gZG7ZSnbCl',\n",
       " 'https://t.co/6LaLFNxZ9T',\n",
       " '@CollinRugg Inevitable. US diplomacy skill is bronze tier.',\n",
       " '@RRRMovie @Teslalightshows @Tesla ♥️♥️',\n",
       " '@cb_doge There appears to be zero self-awareness among legacy media that they behave like an NPC drone collective 🤣🤣',\n",
       " '@SciGuySpace Provided there is no serious launch anomaly, SpaceX will deliver 80% of Earth’s payload to orbit this year.\\n\\nNot counting Starship.',\n",
       " '@TheBabylonBee 🤣🤣',\n",
       " '@TitterDaily Yes!! 🤣🤣',\n",
       " '@CasaBonita @SouthPark This will be great',\n",
       " '@Culture_Crit 🔥',\n",
       " '@ray4tesla He is greatly missed',\n",
       " '@Jason 🤣',\n",
       " '@teslaownersSV @slashdot Will add it to the list',\n",
       " '@slashdot I walked the production line at Tesla Giga Texas today',\n",
       " '@heydave7 Had an awesome Yorkie for 15 years who I named Hobbes, because he was nasty, brutish &amp; short.\\n\\nI’d tell people “watch out for the dog!”, then they’d see him &amp; laugh, then he would bite them on the ankle.',\n",
       " 'https://t.co/nhnFAAO9iO',\n",
       " '@EndWokeness I’m sure this didn’t affect their coverage of him at all',\n",
       " '@WallStreetSilv $100B line … wow',\n",
       " 'Cappuccino/latte art is delightful',\n",
       " 'A latte is really just an excuse for adults to order warm milk without sounding like a baby',\n",
       " '@EndWokeness Pfizer really spent that much on ads?',\n",
       " '@BillyM2k @JoeBiden 🏦 🔥 💩',\n",
       " '@ChrisJBakke Even the mighty can fall if leadership makes bad decisions. Hard to believe these days that Apple was months from bankruptcy before Jobs returned.',\n",
       " '@BillyM2k 😂',\n",
       " '@EndWokeness Even my coffee!?',\n",
       " 'press@twitter.com now auto responds with 💩',\n",
       " '@cb_doge 💯',\n",
       " '@cb_doge Aliens never sleep 🛸',\n",
       " '@cb_doge @McDonalds 💯',\n",
       " '@GraduatedBen Incandescent bulbs are fine and will not destroy the environment. Mandate heat pumps instead of basic AC for heating/cooling. That will actually matter.',\n",
       " '@WholeMarsBlog 😞',\n",
       " '@BillyM2k @unusual_whales 😳',\n",
       " 'https://t.co/mZu9UEmFOB',\n",
       " 'https://t.co/YTKTkGvrVA',\n",
       " '@RandPaul The forever war',\n",
       " '@Teslaconomics That’s the goal!',\n",
       " '@iamharaldur https://t.co/vyjuAISB3G',\n",
       " '@tegmark Maximum truth-seeking is my best guess for AI safety',\n",
       " '@Kristennetten We’re close to using NNs all the way from image-space to vector-space to control',\n",
       " '@KimDotcom 🕰️',\n",
       " 'en tro py … en tro py … no escaping that for me',\n",
       " 'https://t.co/mNtI13Y3xq',\n",
       " '@EMostaque Agreed',\n",
       " '@Jason 🤣',\n",
       " 'This platform is growing fast! \\n\\nJust exceeded 8 billion user-minutes per day … of the most influential, smartest people on Earth 😉',\n",
       " '@andst7 🤣',\n",
       " '@KnowledgeArchiv Cause he was being a big baby',\n",
       " 'https://t.co/x0UR77nosT',\n",
       " '@Scobleizer @LiveSimulator Now ask it “why did the pervert cross the road?”',\n",
       " '@Scobleizer Banks is the best sci-fi writer',\n",
       " '@JohnnaCrider1 💔',\n",
       " '@BillAckman @Twitter Good idea',\n",
       " '@catturd2 Soros figured out a clever arbitrage opportunity: \\n\\nThe many small political contests, such as DAs &amp; judges, have much higher impact per dollar spent than the big races, so it is far easier to sway the outcome.',\n",
       " '@POTUS @CommunityNotes I certainly agree that everyone should pay taxes and not engage in elaborate tax-avoidance schemes. \\n\\nWould be curious to hear how these other “billionaires” are so good at avoiding taxes!\\n\\nWe should get rid of GRATs, but maybe other things too.',\n",
       " '@BillyM2k @unusual_whales True',\n",
       " '@itsjustcornbro Any true human can get verified. It’s only $7/month if bought annually via web (without App Store 30% premium).\\n\\nYes, non-advertising revenue sources are important, so that this platform is not overly reliant on the whims of corporate America, but having a large number of…',\n",
       " '@zerohedge This is a serious risk',\n",
       " '@BillyM2k Yay ♥️♥️♥️ !!!',\n",
       " 'In the coming weeks, Twitter will prioritize replies by:\\n\\n1. People you follow\\n2. Verified accounts\\n3. Unverified accounts\\n\\nVerified accounts are 1000X harder to game by bot &amp; troll armies.\\n\\nThere is great wisdom to the old saying: “You get what you pay for.”',\n",
       " '@cb_doge 💯',\n",
       " '@POTUS I paid 53% taxes on my Tesla stock options (40% Federal &amp; 13% state), so I must be lifting the average!\\n\\nI also paid more income tax than anyone ever in the history of Earth for 2021 and will do that again in 2022.\\n\\n@CommunityNotes, is the 3% number cited above accurate?',\n",
       " '@EMostaque Concerning',\n",
       " '@DrJimFan Lame',\n",
       " '@PeterDiamandis True',\n",
       " '@ESYudkowsky Your doomsday scenarios are being read by the AI',\n",
       " '@ggreenwald Interesting',\n",
       " '@BillyM2k @BBCWorld 🤣',\n",
       " '@DrJimFan Bring it',\n",
       " '@catturd2 Retirement age in France is too low. That’s a legit issue.',\n",
       " 'Very important thread',\n",
       " '@thevivafrei If this happens, Trump will be re-elected in a landslide victory',\n",
       " '@KimDotcom France seems to love having a good strike/riot from time to time',\n",
       " '@ShellenbergerMD Insane',\n",
       " 'Engineering is true magic',\n",
       " '@dogeofficialceo Haha',\n",
       " '@BillyM2k 💯',\n",
       " '@paulg FDIC needs to change to unlimited coverage to stop bank runs and Treasury needs to stop issuing ridiculously high yield bills, such that it makes no sense to have money in a low interest rate bank “savings” account. Right now.',\n",
       " 'https://t.co/6cR0kEntsV',\n",
       " '@farzyness “Once again, we are confidently wrong” – The Fed',\n",
       " '@BillyM2k @WatcherGuru Yeah!!',\n",
       " '@SigmaTechRBLX So many times lol sweet dreams 🛌',\n",
       " '@MuskUniversity I keep agreeing with this guy!',\n",
       " '@0xgaut This goes hard',\n",
       " '@fadde @ZubyMusic SFO seems good',\n",
       " '@fadde @ZubyMusic True of many US airports (sigh)',\n",
       " '@HistoryInPics Some bots are good, but yes',\n",
       " '@ZubyMusic Wow, not like LAX',\n",
       " '@blader Me too',\n",
       " '@all_in_tok @DavidSacks The Fed is operating with way too much latency in their data. Rates need to drop immediately.',\n",
       " '@TitterDaily Yes',\n",
       " '@Mayhem4Markets 🤣',\n",
       " '@TitterDaily Good point',\n",
       " '@KimDotcom Happy St Patrick’s Day! 🍀',\n",
       " '@wallstmemes Literally',\n",
       " '@WowTerrifying Wow!',\n",
       " '@EnronChairman Nice',\n",
       " '@isabelleboemeke @TrungTPhan !',\n",
       " '@ZubyMusic @JTAZUSA Turn the other cheek',\n",
       " '@Rainmaker1973 ♥️',\n",
       " '@Teslaconomics Fate 🖤 Irony',\n",
       " '@BillyM2k Are the police in SF actually allowed to reduce crime?',\n",
       " '@BillyM2k So maybe having police &amp; arresting criminals wasn’t such a bad idea after all',\n",
       " 'https://t.co/wkZWJ5EpWa',\n",
       " '@BillyM2k @WatcherGuru Warren G\\n https://t.co/mkFb6rh7JC',\n",
       " '@BillyM2k @APompliano Yeah, it’s bizarre!',\n",
       " 'Of Course I Still Love You',\n",
       " '@TrungTPhan At the risk of sounding insane, there is the option of drinking normal water',\n",
       " 'In the months ahead, we will use AI to detect &amp; highlight manipulation of public opinion on this platform.\\n\\nLet’s see what the psy ops cat drags in …',\n",
       " '@EvaFoxU Exactly',\n",
       " '@cb_doge @dvorahfr True',\n",
       " '@KanekoaTheGreat Unless I’m missing something, this appears to support the argument that there is political bias in the justice system.\\n\\nThat is not to presume a guilty verdict or prison, but not bringing this to court at all is hard to explain.\\n\\n@CommunityNotes',\n",
       " '@NateSilver538 Slightly surprised by this result',\n",
       " '@GayerGus I was repeatedly told that we were just following the law in Brazil. Is this not the case?',\n",
       " 'Congrats to @SpaceX team for launching 2 rockets within 4 hours! https://t.co/kT5T01lxjt',\n",
       " 'Peace was never an option https://t.co/XgdgGeFcNy',\n",
       " 'Archangel-12 https://t.co/8pTabi9481',\n",
       " '@Grimezsz Happy birthday! 🎂',\n",
       " '@Grimezsz You rang? 😈',\n",
       " '@Teslaconomics @taylorswift13 😂',\n",
       " '@BillyM2k Haha I know quite a few of them',\n",
       " '@BillyM2k Her limbic resonance skill is exceptional',\n",
       " '@taylorswift13 🚬',\n",
       " '@kcoleman 🔥',\n",
       " '@jfarchy @mburtonmetals @megacontango Bag holders literally',\n",
       " 'https://t.co/AoIYifFivh',\n",
       " 'Take that, ChatGPT!',\n",
       " 'To meme the impossible meme 🎶 \\nTo fight the unbeatable foe \\U0001f9cc \\nTo bear with unbearable sorrow 😭\\nTo run where the brave dare not go💨\\n\\nTo right, the un-rightable rong 😑 \\nTo ♥️ pure and chaste from afar\\nTo try when your arms are too weary 😮\\u200d💨\\nTo reach the unreachable ⭐️ \\n\\nThis is…',\n",
       " '@GRDecter 😂',\n",
       " '@nearcyan @natfriedman 🤣💯',\n",
       " '@ggreenwald Shame on them',\n",
       " '@ggreenwald Wow',\n",
       " '@PeterDiamandis Heat death of the universe',\n",
       " 'Our “algorithm” is overly complex &amp; not fully understood internally. People will discover many silly things , but we’ll patch issues as soon as they’re found!\\n\\nWe’re developing a simplified approach to serve more compelling tweets, but it’s still a work in progress. That’ll also…',\n",
       " 'Twitter will open source all code used to recommend tweets on March 31st',\n",
       " '@Fresh_Dee96 @elefras7 Try it … you’ll like it … 💫 🛰️',\n",
       " '@BillyM2k 🧨',\n",
       " '@WorldAndScience And the tutorials are way too long!',\n",
       " '@TheBabylonBee 🤣🤣',\n",
       " '@andst7 !',\n",
       " '@RichardGrenell @Twitter It will be made open source, but we’re finding so many bugs that those should be fixed first',\n",
       " '@RichardGrenell @Twitter Go to your Followers tab if you only want to see their posts or make a List for specific accounts. \\n\\nThe recommendation code is being cleaned up, so expect some oddness during this process. Debugging how ~200M posts are distilled down to ~200 is tricky.',\n",
       " '@jimcramer 🥳',\n",
       " '@BillAckman @SecYellen @firstrepublic The inefficiency of the set of heterogeneous resource allocation databases we call money is astounding',\n",
       " '@Timcast !!',\n",
       " '@teslaownersSV SpaceX will be ready to launch Starship in a few weeks, then launch timing depends on FAA license approval. \\n\\nAssuming that takes a few weeks, first launch attempt will be near end of third week of April, aka …',\n",
       " '@Chad_Hurley Especially “social” media!',\n",
       " '@BillyM2k The Force is strong with inverse Cramer',\n",
       " 'https://t.co/Wwp8WVIfOn',\n",
       " '@iamharaldur True',\n",
       " '@doc_gero Twitter can unfortunately send one down a negativity rathole at times. Good to take breaks.',\n",
       " '@alex_avoigt 🧐',\n",
       " '@Jason Coming',\n",
       " '@covid_clarity Not when they’re fed propaganda by adults. \\n\\nMoreover, every child goes through an identity crisis before their personality/identity crystallizes. \\n\\nTherefore, we shouldn’t allow severe, irreversible surgery or sterilizing drugs that they may regret until at least age 18.',\n",
       " '@syndrome22q1 Hi 👋',\n",
       " '@Timcast Some truth to this',\n",
       " '@OfficialSPGB Wait, are you parody or not parody? I can’t tell.',\n",
       " '@OfficialSPGB Yep.',\n",
       " '@PeterDiamandis @_FountainLife !!',\n",
       " 'Describes a significant portion of this platform https://t.co/IPUfU5O6gw',\n",
       " 'It’s exciting to see more &amp; more public figures engaging in active dialogue on this platform! \\n\\nSure, people will say foolish things from time to time (myself especially), but that’s way better than silence or sanitized “press releases” that’re basically just boring propaganda.',\n",
       " 'Best way to fight misinformation is to respond with accurate information, not censorship',\n",
       " 'If other party is always wrong\\nAnd your party is always right\\nYou are at least partly wrong',\n",
       " '@BillyM2k https://t.co/CxdWbr4npQ',\n",
       " '@KimDotcom While of course stressful at the time, your response video was epic 🤣',\n",
       " '@KimDotcom Your opinion of the US govt is (not unreasonably) negatively affected by a comically over-the-top swatting op',\n",
       " '*not terrible',\n",
       " '@HowThingsWork_ Style',\n",
       " '@Rainmaker1973 Larger vocabulary means better data compression – fewer words needed to express concepts – so higher data rate',\n",
       " 'You’re terrible &amp; I love you',\n",
       " '@PeterDiamandis !!',\n",
       " 'It’s kinda flattering to be insulted on this site tbh',\n",
       " '@dogeofficialceo Yah',\n",
       " '@Teslaconomics Looking fake is how you know it’s real these days',\n",
       " 'You can ring my bell, ring my bell',\n",
       " 'Mis An Thropic Thunder',\n",
       " '@tegmark I agree!',\n",
       " '@ZubyMusic 🔥',\n",
       " 'Microsoft fired their AI safety team?\\nhttps://t.co/bp5vde1clm',\n",
       " '@dougponder !!',\n",
       " '@BillyM2k Nice',\n",
       " 'Starlink now offers global roaming',\n",
       " '@Carnage4Life I’m still confused as to how a non-profit to which I donated ~$100M somehow became a $30B market cap for-profit. If this is legal, why doesn’t everyone do it?',\n",
       " '@RichardHanania That is a very real risk',\n",
       " '@UpdatingOnRome Corporate wants to know the difference between these two photos:\\n– Middle-aged dudes at toga party\\n– Supreme leadership of Rome',\n",
       " '@UpdatingOnRome It’s basically a toga party – what’s the worst that could happen?',\n",
       " '@charliekirk11 Not a peaceful protest at all',\n",
       " '@cz_1977 🤣',\n",
       " 'https://t.co/ddmLSmOGb0',\n",
       " '@BeingAsifx @AutismCapital 💯',\n",
       " '@AutismCapital Rewarding an AI for bias/deception is the path to a dystopian future',\n",
       " '@myth_pilot Is there a copy of the DOJ complaint online?',\n",
       " '@ggreenwald @DrJMoneyPHD Interesting',\n",
       " 'Funny cause it’s true https://t.co/FuIFx4Xuaq',\n",
       " '@DavidRozado Concerning',\n",
       " '@thereal_truther @kevinnbass Interesting',\n",
       " '@nowteslafy V11 starts going wide this weekend',\n",
       " 'https://t.co/CbxRg9r88U',\n",
       " '@minliangtan Transformers have limits',\n",
       " '@mckaywrigley Sigh',\n",
       " '@micsolana 🤣',\n",
       " '@svpino Yup',\n",
       " '@CathieDWood Lot of current year similarities to 1929',\n",
       " '@mckaywrigley @gdb Funnybot is funny',\n",
       " '@BillyM2k They are running out of dystopias',\n",
       " '@jordanbpeterson Very concerning',\n",
       " 'Parents don’t realize the Soviet level of indoctrination that their children are receiving in elite high schools &amp; colleges!',\n",
       " '@cb_doge That whole experience gave me great respect for farmers – they work hard to put the food on everyone’s table',\n",
       " '@cb_doge That’s me working on my 2nd cousin’s wheat farm in Saskatchewan. I think we did a barn raising that day. \\n\\nIf you want to see peak human labor productivity, a good old barn-raising is it!',\n",
       " '@cb_doge “Two hats are better than one” – wise proverb',\n",
       " '@wintonARK What will be left for us humans to do? We better get a move on with Neuralink!',\n",
       " '@alx !',\n",
       " 'The intent is for this site to be fair &amp; impartial, favoring no party, seeking only the least wrong truth.',\n",
       " '@BillyM2k 🤔',\n",
       " '@kevinnbass Indeed',\n",
       " '@MuskUniversity I hope so',\n",
       " 'Fight for truth, whole truth &amp; nothin but!',\n",
       " '@TrungTPhan 🤣',\n",
       " '@SawyerMerritt That media report is false. Relations between Tesla and BYD are positive.',\n",
       " '@_LOVELYSPAIN_ Reminds me of an Overwatch map',\n",
       " '@KanekoaTheGreat @RobertKennedyJr @jimmy_dore Accurate @CommunityNotes?',\n",
       " '@DrJimFan Exactly!!',\n",
       " '@BillyM2k Not far wrong',\n",
       " '@TheChiefNerd Synthetic mRNA does have great potential to cure cancer',\n",
       " '@JTLonsdale Yeah',\n",
       " '@cb_doge Top secret',\n",
       " '@EvaVlaar What exactly are the rule changes requested by the farmers?',\n",
       " '@MatthewDR @Twitter 🔥🤣 😢',\n",
       " '@mundfish @BillyM2k I sure hope Tesla bots don’t malfunction! \\n\\nWe’re taking great care to ensure that Optimus can easily be powered down locally with a physical switch to reduce the risk of centralized control.',\n",
       " '@EvaVlaar What rules do you want the government to change?',\n",
       " 'Yay!!',\n",
       " '“These are the good old days!” – frens',\n",
       " '@KeithOlbermann I do hope to succeed in business 🤞',\n",
       " '@TitterDaily @carlquintanilla 😂 @CommunityNotes ftw again',\n",
       " '@BillyM2k 🤣',\n",
       " '@TheRabbitHole84 Guaranteed increase in anger levels',\n",
       " '@Zattestore At least the “plus size” part is accurate',\n",
       " '@Zattestore Twitter just served me a bra ad (heavy sigh)',\n",
       " '@BillyM2k @DailyLoud Copy 🐈',\n",
       " '@stillgray Major problem. These are oversubscribed in America.',\n",
       " '@MuskUniversity Super big deal',\n",
       " '@atensnut As a side note, we finally know the muffin man!',\n",
       " '@atensnut This shaman/muffin-guardian is obviously not going to overthrow the state',\n",
       " '@atensnut Let him out',\n",
       " '@Jules31415 @alx 🧐',\n",
       " '@SillE_llis @alx 🥇',\n",
       " '@aaronsibarium While I agree that one should use the terms someone else wishes to be referred by, allowing forceful disruption of this event was nonetheless disgraceful. @stanford',\n",
       " '@aaronsibarium !',\n",
       " 'The sum of a cult should be greater than the parts/prophets/profits',\n",
       " '@teslaownersSV 🤣🤣',\n",
       " '@AutismCapital Phlebas the Phoenician, a fortnight dead,\\nForgot the cry of gulls, and the deep sea swell\\nAnd the profit and loss.\\n\\nA current under sea\\nPicked his bones in whispers. As he rose and fell\\nHe passed the stages of his age and youth\\nEntering the whirlpool.',\n",
       " '@NMS_Screenshots @MatthewJshow 🤣',\n",
       " '@dogeofficialceo @ZubyMusic 🤣',\n",
       " '@pmarca [Fact-checking sounds] … True',\n",
       " '@pmarca 🤣🔥',\n",
       " '@ZubyMusic Does moving a mouse in a FPS game count?',\n",
       " '@RepMattGaetz @Timcast I used to think Bannon was smart &amp; evil, but now I realize I was wrong about the first part',\n",
       " '@TiceRichard Much respect for Sweden 🇸🇪',\n",
       " '@weezilla @alx Yeah, I agree he should get non-zero punishment, but four years in prison is too much for a non-violent crime',\n",
       " '@alx The Capitol Police literally opened the Senate chamber door for him on camera!\\n\\nBut who are you going to believe, Instagram “fact-checkers” or your own lying eyes!?',\n",
       " '@SouthPark 🔥🔥',\n",
       " '@stillgray Does seem asymmetric',\n",
       " 'Yesterday https://t.co/RP2vhWf6F3',\n",
       " '@henrygrabar This article is false',\n",
       " '@MuskUniversity ⚔️',\n",
       " '@KeithOlbermann Have you considered a career in comedy?',\n",
       " '@minliangtan I’m open to the idea',\n",
       " '@BillyM2k @minliangtan 🤣',\n",
       " '@DailyCaller 🤣🤣🤣',\n",
       " '@gaborgurbacs Comforting …',\n",
       " '@heydave7 @mrjonfinger Midjourney is very impressive',\n",
       " '@TomFitton This sounds insane! What did they review?',\n",
       " '@HXMnCK @TitterDaily 🤣',\n",
       " '@MatthewJshow I’m not part of MAGA, but I do believe in fairness of justice. \\n\\nChansley was falsely portrayed in the media as a violent criminal who tried to overthrow the state and who urged others to commit violence.\\n\\nBut here he is urging people to be peaceful and go home. And the other…',\n",
       " '@TheBabylonBee The gerontocracy is real',\n",
       " 'https://t.co/tTMWOHcUom',\n",
       " '@jameslavish Wow!',\n",
       " 'Chansley got 4 years in prison for a non-violent, police-escorted tour!?\\n\\nDave Chapelle was violently assaulted on stage by a guy with a knife. That guy got a $3000 fine &amp; no prison time.',\n",
       " 'Free Jacob Chansley',\n",
       " '@TheRabbitHole84 !',\n",
       " '@ShellenbergerMD Very entertaining 🤣',\n",
       " '@BillyM2k He studied the blade',\n",
       " '@JonathanTurley Wow',\n",
       " '@allgarbled 😂',\n",
       " '@Teslaconomics https://t.co/gBOq3Yp1yH',\n",
       " '@Teslaconomics Arabesque',\n",
       " '@ZubyMusic 💯',\n",
       " '@bariweiss @ShellenbergerMD @mtaibbi Hall-of-Famer',\n",
       " '@WallStreetSilv The gerontocracy is real',\n",
       " '@JowuaLife @WholeMarsBlog @DirtyTesLa Glad he’s finally seen the light 😂',\n",
       " '@DogecoinNorway @micsolana 🤣',\n",
       " '@DrJBhattacharya Absolutely',\n",
       " '@ID_AA_Carmack 💯',\n",
       " 'To be alerted about new tweets from any account, tap the bell symbol on the profile page https://t.co/GxfsWpduwV',\n",
       " '@ggreenwald I think we should listen carefully to DWS, given that she is such an expert in ethics violations 😂 \\n\\nShe was forced to resign as DNC chair after being bust rigging the nomination against Bernie! @DWStweets \\n\\nhttps://t.co/CFkEMjSMJG',\n",
       " '@MattWallace888 @iheartmindy @SenSchumer This is unjust.',\n",
       " '@iheartmindy @SenSchumer Seriously!? This is messed up.',\n",
       " '@danprimack This is such lamé propaganda lol',\n",
       " '@anothercohen True',\n",
       " '@cb_doge Accurate. How did media go from questioning authority to doing their bidding as a collective NPC hivemind!?',\n",
       " 'https://t.co/IYlRo3fd59',\n",
       " '@CollinRugg I’m not his source, but, yeah, obviously asking journalists to reveal sources is not cool',\n",
       " '@micsolana Good thing LAT has “real” journalists',\n",
       " '@micsolana wow',\n",
       " '@alx @ShellenbergerMD @bariweiss Comedy gold!!',\n",
       " '@BillyM2k Yeah, that’s really mind-blowing. Our sun will massively expand &amp; engulf Earth in the future, so it won’t be tiny forever.',\n",
       " '@ShellenbergerMD Great work! This is *actually* important for the health of our democracy.',\n",
       " '@JonathanTurley So bizarre!',\n",
       " '@BillyM2k Heard good things about Atomic Heart',\n",
       " '@BillyM2k Dead Space remake is good',\n",
       " '@BillyM2k !',\n",
       " '@KanekoaTheGreat GEC should be defunded.',\n",
       " '@DrJBhattacharya Stanford is damaging its name by allowing its use by the SIO propaganda machine @Stanford',\n",
       " '@greg_price11 🔥',\n",
       " '@KanekoaTheGreat True',\n",
       " '@wrong_less https://t.co/vvPUcF0J8H',\n",
       " 'Concerning',\n",
       " '@PBDsPodcast @patrickbetdavid !!',\n",
       " '@harrythemod 🤣',\n",
       " 'Sometimes we miss here at Starbase https://t.co/B9yHxzReMK',\n",
       " '@TitterDaily @CommunityNotes @Twitter Haha what a tool',\n",
       " '@getpaidwrite @ZubyMusic Slightly flattishly round',\n",
       " '@TheBabylonBee 🤣💯',\n",
       " '@BillyM2k @WallStreetSilv Population collapse is the biggest threat to civilization',\n",
       " '@ZubyMusic We are running out of “conspiracies” that turned out to be true!\\n\\nCan someone manufacture a few more? The shelf is almost empty.',\n",
       " '@HawleyMO Extremely troubling',\n",
       " '@BillyM2k 🤣',\n",
       " '@monitoringbias !!',\n",
       " '🤬 😂 https://t.co/zPXgj1cN5v',\n",
       " '@PeterDiamandis True',\n",
       " '@TheBabylonBee 🤣💯',\n",
       " '@SenSchumer Do you want us to remove this video?',\n",
       " '&lt;Insert Cartridge&gt; \\n&lt;Run Program&gt; https://t.co/8ZLIimykQ5',\n",
       " '@westcoastbill V11 is a major step change improvement. Still needs another point release of polish before rolling out wide.',\n",
       " '@Lukewearechange @stevenvoiceover 🤣🤣',\n",
       " '@farzyness May they do this all day! Drives advertising revenue for Twitter lol.',\n",
       " '@jendker83 @farzyness Even Poland MSM … (sigh)\\n\\nHow did almost all of western media become such an NPC groupmind?',\n",
       " '@WallStreetSilv Makes sense that Batman would take bat insults rather personally. He loves bats next-level.',\n",
       " '@techbubble @Twitter So you’re saying you don’t want a bra? 🤣',\n",
       " '@pmarca 🔥🔥',\n",
       " '@TheBabylonBee 🤣',\n",
       " '@anothercohen @danielhoughton @iamharaldur I also apologize to everyone named Alex in this 🧵',\n",
       " '@BBCScienceNews 🥰',\n",
       " '@pmarca Or do calculus',\n",
       " '@BillyM2k @RealKidPoker This is a major area of focus',\n",
       " '@WowTerrifying Intense. Not like you have a lot of room to maneuver.',\n",
       " '@memejority 🤣',\n",
       " '@EvaVlaar !',\n",
       " '@MarioNawfal 👍🏻',\n",
       " '@danielhoughton @anothercohen @iamharaldur I would like to apologize to Halli for my misunderstanding of his situation. It was based on things I was told that were untrue or, in some cases, true, but not meaningful.\\n\\nHe is considering remaining at Twitter.',\n",
       " '@DrJBhattacharya This is a serious attack on the Constitution by a federal agency.',\n",
       " '@danielhoughton @anothercohen @iamharaldur Based on your comment, I just did a videocall with Halli to figure out what’s real vs what I was told. It’s a long story.\\n\\nBetter to talk to people than communicate via tweet.',\n",
       " '@charliekirk11 I keep forgetting which party he belongs to',\n",
       " '@ShellenbergerMD A shameful case of weaponization of a government agency for political purposes and suppression of the truth!',\n",
       " '@DavidSacks Extremely important',\n",
       " '@ihors3 Wow',\n",
       " '@KanekoaTheGreat Absolutely',\n",
       " '@ZubyMusic This pervasive cultural pessimism is at the heart of societal dysfunction. \\n\\nBetter to be optimistic and wrong, than pessimistic and right!',\n",
       " 'Livestream interview in 15 mins at Morgan Stanley Conference https://t.co/Eo10tsAooS',\n",
       " '@MuskUniversity So many guys who got MeToo’ed went woke for the moral cloak',\n",
       " '@cb_doge It’s a hit piece',\n",
       " '@JMichaelWaller !',\n",
       " '@MarkChangizi Sweden’s steadfastness was incredible!',\n",
       " '@greg_price11 @Liz_Cheney @AdamKinzinger @RepAdamSchiff Besides misleading the public, they withheld evidence for partisan political reasons that sent people to prison for far more serious crimes than they committed.\\n\\nThat is deeply wrong, legally and morally.',\n",
       " '@anothercohen But was he fired? No, you can’t be fired if you weren’t working in the first place!',\n",
       " '@mattwridley Interesting',\n",
       " '@FishFin81480487 @greg_price11 @BBCNews What say you, @BBCWorld? Your credibility is at stake.',\n",
       " '@anothercohen The reality is that this guy (who is independently wealthy) did no actual work, claimed as his excuse that he had a disability that prevented him from typing, yet was simultaneously tweeting up a storm. \\n\\nCan’t say I have a lot of respect for that.',\n",
       " '@Cernovich Shocking indeed',\n",
       " '@greg_price11 Wow',\n",
       " '@greg_price11 This is crazy. The public was misled.',\n",
       " '@browserdotsys 🔥',\n",
       " '@iamharaldur Would you say that you’re a people person?\\nhttps://t.co/kLD9NWHVIT',\n",
       " '@iamharaldur 🤣🤣',\n",
       " '@iamharaldur - Level up from what design to what? Pics or it didn’t happen. \\n- We haven’t hired design roles in 4 months\\n- What changes did you make to help with the youths?',\n",
       " '@iamharaldur Which SaaS contract exactly?\\nPrioritization of what design projects?',\n",
       " '@iamharaldur It’s approved, you go ahead',\n",
       " '@CartlandDavid 🤣🤣',\n",
       " '@ZubyMusic Yeah, I find cis offensive (cue lots of people calling me cis lol)',\n",
       " 'https://t.co/KcCn6hNebl',\n",
       " '@diana_dukic 🤣💯',\n",
       " '@Teslaconomics Alas she would never date me I’m not cool enough 😢',\n",
       " 'Be careful to not almost die from using this app too long on the 🚽 \\n\\nI speak from experience https://t.co/p9RcAAYG89',\n",
       " '@ajtourville There are many others too',\n",
       " '@iamharaldur What work have you been doing?',\n",
       " '@BillFOXLA @GeorgeGascon Wasn’t Gascon the bad guy in Beauty &amp; the Beast?',\n",
       " 'This helpful video explains what happened at Twitter today\\nhttps://t.co/LCx4jRIiCk',\n",
       " '@ZubyMusic Yeah, it’s bizarre',\n",
       " '@BillyM2k @TheSmarmyBum It’s pretty great!',\n",
       " '@ryanhallyall It is a major priority to enable monetization by content creators! People need to make a living and prosper from their work.\\n\\nWe need to make it possible to upload the content in the first place. That’s getting there.',\n",
       " 'Accounts engaging in repeated, egregious weaponization of DMCA on Twitter or encouraging weaponization of DMCA will receive temporary suspensions. \\n\\nThat said, reasonable media takedown requests are, of course, appropriate and will always be supported.',\n",
       " '@cb_doge @TrungTPhan I was robbed!',\n",
       " '@micsolana If what they want are pretty pics &amp; heart emoji’s, I recommend Instagram. It’s great for that, please go there.\\n\\nInstagram reminds me of Cloud Cuckoo Land. Everything seems super nice on the surface, but it’s actually hell. \\n\\nhttps://t.co/sVhNlJ8TjL',\n",
       " '@BillyM2k @micsolana Yup, they can dish it out, but they can’t take it',\n",
       " '@andrew_lilico @DavidDeutschOxf In a case like that, definitely.',\n",
       " '@DrJBhattacharya @MarkChangizi 💯',\n",
       " '@monitoringbias Interesting',\n",
       " '@greg_price11 !',\n",
       " '@dogeofficialceo @BillyM2k @LGElectronics We’re working on it!',\n",
       " '@pmarca A small API change had massive ramifications. The code stack is extremely brittle for no good reason. \\n\\nWill ultimately need a complete rewrite.',\n",
       " '@DrJBhattacharya 🎯',\n",
       " '@BillyM2k @dogeofficialceo True, my @LGElectronics screen great!',\n",
       " '@Rainmaker1973 @NightLights_AM Any account engaging in blackmail will be suspended. Yours will not.',\n",
       " '@bronwynwilliams Super concerning',\n",
       " '@TheRabbitHole84 New Twitter is the source of truth',\n",
       " '@jordanbpeterson Idiocracy is happening so fast',\n",
       " '@jordanbpeterson True',\n",
       " '@alx This platform is so brittle (sigh). Will be fixed shortly.',\n",
       " '@stillgray !!',\n",
       " '@ZubyMusic Civilization is going 🥜',\n",
       " '@ZubyMusic 🤣',\n",
       " '@BillFOXLA This is crazy!',\n",
       " '@isabelleboemeke True 😔',\n",
       " '@WallStreetSilv This is messed up and will not make a difference to climate!',\n",
       " '@CollinRugg Good point. If an organization portrays itself as balanced, but is not, it should be labeled to inform the public.',\n",
       " '@DrJBhattacharya Exactly. Fauci egregiously betrayed the public trust.',\n",
       " '@FoxNews This is extremely unfair to anyone with XX chromosomes!',\n",
       " '@Annie_DLV True, have to admit trolls are kinda fun',\n",
       " '@Chesschick01 Exactly. \\n\\nAt the same time, worth noting that the left is not being censored either. \\n\\nThis is not a right wing takeover, but rather a centrist takeover.',\n",
       " '@teslaownersSV Insane snow!',\n",
       " '@teslaownersSV Exactly',\n",
       " '(real article from organization calling itself bbc)',\n",
       " 'Sorry for turning Twitter from nurturing paradise into place that has … trolls \\U0001f9cc https://t.co/HaWl1jPfOm',\n",
       " '@Rainmaker1973 A practical limit to digits of pi is how many are needed to divide the universe into Planck voxels',\n",
       " '@Rainmaker1973 This is arguably the most mind-blowing thing about “reality”',\n",
       " '@WallStreetSilv Especially accurately … must be a tiny scale',\n",
       " '@WallStreetSilv Can’t be an easy job weighing mice nuts',\n",
       " '@BillyM2k @BBCWorld Literally roflmao …',\n",
       " '@BillyM2k @CommunityNotes Major asset on the side of truth &amp; accuracy!',\n",
       " '@BillyM2k @olivia_p_walker @CommunityNotes 🤣💯',\n",
       " '@anammostarac 🥇',\n",
       " '@unusual_whales BI',\n",
       " 'https://t.co/Qo6K6E1KkY',\n",
       " '@kimbal It is inspiring to think that humans did that',\n",
       " '@chicago_glenn The meme community has high standards!',\n",
       " '@ThePrimeagen As an attachment? How many chars? We are extending longform tweets to 10k soon.',\n",
       " 'Add Fun to the FDA &amp; rename to FFDA',\n",
       " '@BillyM2k @POTUS What about fun? I say vote for more fun!',\n",
       " '@BBCNews !',\n",
       " '@dogeofficialceo @cb_doge 😂',\n",
       " '@DailyCaller Backlash the backlash, I say!!',\n",
       " '@the_wilderless 🥰',\n",
       " '@WhaleCoinTalk 👀',\n",
       " '@BillyM2k @christinebarnum https://t.co/C9CG2GHlWg',\n",
       " '@BillyM2k @kevinolearytv I endorse this message!',\n",
       " '@DrJBhattacharya Rule #1: Don’t panic',\n",
       " '@pmarca As the old saying goes: people in nuclear houses shouldn’t glass each other',\n",
       " '@cb_doge ~8 years of pain from a crushed disc',\n",
       " '@DavidSacks @lieven_anatol I find myself, once again, in the odd position of agreeing with @jacobin',\n",
       " 'How to sabotage an organization … https://t.co/YWtfgfRKCu',\n",
       " '@ashleevance @Peter_J_Beck Lot to be learned from buying old rocket parts &amp; especially by visiting museums like @airandspace &amp; @NASAKennedy rocket garden https://t.co/i3c0B5dsEU',\n",
       " '@pmarca People who throw the disinformation word around constantly are almost certainly guilty of engaging in it',\n",
       " '@westcoastbill Hard buttons did make my thumbs hurt from too much typing though',\n",
       " 'Aiming to roll out ability to reply to individual DMs, use any reaction emoji &amp; encryption later this month',\n",
       " '@Resist_05 I’m super pro climate, but we definitely don’t need to put farmers out of work to solve climate change. Not at all.',\n",
       " 'https://t.co/Gegpl5sjHT',\n",
       " '@CatherinScience @ZubyMusic 🤣',\n",
       " '@DanielHadas2 🤣',\n",
       " '@ZubyMusic But at least we give a megaphone',\n",
       " '@andst7 V true',\n",
       " '@paulg Terrible',\n",
       " '@Vegas And cool @boringcompany underground road tunnels!',\n",
       " '@Rainmaker1973 Science found another ancient glyph\\nhttps://t.co/AIqUPy9Q2C',\n",
       " '@BillyM2k @CommunityNotes 😂',\n",
       " '@ZubyMusic !!',\n",
       " '@mkapor @TheRealFreada @CommunityNotes Literally nothing is evenly distributed by zip code, except having a zip code',\n",
       " '@TheChiefNerd @rustyrockets @billmaher @joerogan Russell Brand is 🔥🔥',\n",
       " '@andst7 🤣',\n",
       " '@mkapor @TheRealFreada What is your basis for claiming genius is evenly distributed by zip code? This is false.\\n@CommunityNotes',\n",
       " '@BillyM2k @boardroom @MSU_Basketball @michiganstateu @Money23Green WoW',\n",
       " 'We should defund the GEC',\n",
       " '@Rainmaker1973 17k rpm rotor – wow',\n",
       " 'Something should be done https://t.co/17mp4XdMI0',\n",
       " '@pmarca Very few Americans seem to realize the severity of the situation',\n",
       " '@ScottAdamsSays 🔥',\n",
       " '@paulg Not much useful originality with AI yet',\n",
       " '@BillyM2k Disturbing',\n",
       " '169 mT to orbit this year so far',\n",
       " 'Stage 1 to stage 2 mass ratio is too high on Falcon 9, necessitating a long entry burn. This is fixed on Starship.',\n",
       " 'Another launch',\n",
       " '“I used to be in crypto, but now I got interested in AI\"',\n",
       " '@Cernovich @JackPosobiec That is the goal',\n",
       " '@Teslaconomics So many NN’s, the visualizer tool crashes trying to render them',\n",
       " '@RichardDawkins This is insane',\n",
       " '@BillyM2k 🤣💯',\n",
       " 'The ability of Twitter advertising to reach the most influential people in the world is often not fully appreciated.\\n\\nWhile a few other social networks are technically bigger, Twitter is where the writers &amp; leaders spend their time.',\n",
       " '@Teslaconomics Cybertruck cruisers will be next-level. Designed for Bladerunner.',\n",
       " 'Twice as many people died in Japan last year as were born. Population freefall.\\n\\nRest of the world is trending to follow.\\n\\nhttps://t.co/JDHiFviua5',\n",
       " '@FonsDK Exactly',\n",
       " '@lrocket Wow',\n",
       " '@kylegriffin1 Good for @LillyPad!',\n",
       " '@MKBHD Interesting',\n",
       " '@stevenmarkryan Bus voltage raised from 12V to 48V drops copper usage by ~4X',\n",
       " '@stevenmarkryan lol',\n",
       " '@ImMeme0 @KeithOlbermann @SenMikeLee @BasedMikeLee Olbermann posting from his dog account was epic',\n",
       " 'Detailed whitepaper with calculations &amp; assumptions to be released by Tesla shortly',\n",
       " 'https://t.co/PHv5nGLZGe',\n",
       " '@DavidSacks Accurate',\n",
       " '…',\n",
       " 'You’re not gonna believe this, but we’re running a little late! \\n\\nPresentation starts in ~5 mins.',\n",
       " '@quantumVerd @Twitter @Tesla obv',\n",
       " '@BillyM2k @Dexerto 😂',\n",
       " '@BillyM2k His best work imo',\n",
       " '@catturd2 His personal account (@BasedMikeLee) was incorrectly flagged as impersonation, which is not totally crazy, since it is based',\n",
       " '@pmarca Once you acknowledge that alcohol is poison, it’s fine to drink a little. The trade is a small amount of health for an even smaller amount of fun, but that’s not crazy to do once in a while with friends.\\n\\nAlcohol is a legacy drug.',\n",
       " '@neontaster 🔥🔥',\n",
       " '@Rainmaker1973 Intense',\n",
       " '@EvaFoxU 🤣',\n",
       " '@SawyerMerritt 🤣',\n",
       " 'What do you call an infinite gear ratio?\\nAll torque, no action.',\n",
       " '@TeslaAIBot Photo filters are so misleading 🤣🤣',\n",
       " '@RepThomasMassie 🥇',\n",
       " '@WSJ @WSJopinion Good',\n",
       " 'Periodic reminder to try using Twitter Lists. Will greatly improve your experience.',\n",
       " '@jamesdouma Accurate',\n",
       " '@Erdayastronaut Yeah',\n",
       " '@O42nl @kirillgroshkov Tesla does INT8 inference. Way more efficient than FP16, but took us a lot of effort to overcome quantization errors.',\n",
       " '@ajtourville @ulalaunch @SpaceX Wow, 9 years ago. Amazingly, the US was dependent on Russian engines for national security missions back then!',\n",
       " '@Erdayastronaut Raptor start is now reliable on the test stand under most conditions. \\n\\nNow we’re working on dynamically adapting the start sequence based on increasingly difficult propellant inlet pressures &amp; temps. \\n\\nOperating with low pressure, “warm” liquid oxygen is particularly important.',\n",
       " '@Tesmanian_com Kind words from @Toyota',\n",
       " '@Erdayastronaut Raptor start sequence is 🤯🤯',\n",
       " '@ZubyMusic Looking into it',\n",
       " 'https://t.co/4raodvAzSy',\n",
       " '@BillyM2k 🤣',\n",
       " '@AttilaTheLund You are right',\n",
       " 'BasedAI',\n",
       " '@Not_the_Bee @TheBabylonBee !!',\n",
       " '@AlphaSignalAI Absolutely',\n",
       " '@Noahpinion We have made large construction projects almost illegal',\n",
       " '@cb_doge Anubis',\n",
       " '@kkbaghel @McFaul Neither side has air superiority &amp; tanks are easily destroyed by missiles, so that leaves infantry &amp; artillery – basically WW1. Drones are not yet available in sufficient numbers to matter, much like aircraft in WW1.\\n\\nA defense in depth trench war means https://t.co/cQq2BHxPXt… https://t.co/9ghdUP7iRi',\n",
       " '@McFaul Ukraine needs to be in max defense mode. Major Russian offensive coming.\\n\\nDo you know how many casualties each side has taken?',\n",
       " '@War_Mapper Almost surrounded',\n",
       " '@eightsleep It’s good',\n",
       " '@HeroDividend “Berkshire Hathaway high on Coke”',\n",
       " '@cb_doge They forced me to buy it 🤣',\n",
       " '@mtracey Still no one is willing to articulate a realistic end game',\n",
       " '@YuqiiQian High time humanity built a permanently occupied base on the moon',\n",
       " '@HistoryInPics If rendered to scale in that pic, the satellites would be smaller than a pixel, except maybe Space Station. \\n\\nSpace is big. Real big.',\n",
       " '@BillFOXLA Only a small % is ever caught, which means the amount of fentanyl reaching consumers must be vastly greater',\n",
       " '@TrungTPhan @ashleevance “Stinky Wifi” is still my fav – if you can’t smell your wifi, how do you know it’s real?',\n",
       " '@ashleevance Changing Starlink default wifi name to “FBI-van” on April 1',\n",
       " '@ashleevance 🤣',\n",
       " '@aaronjmate The diplomats want war and the warriors want peace',\n",
       " '@WholeMarsBlog Earth is almost entirely solar-powered already. Without the sun, we’d just be a dark ice ball with some chemotrophic bacteria.',\n",
       " '@Lukewearechange True',\n",
       " 'First Starlink v2 satellites reach orbit https://t.co/0l08568mJ9',\n",
       " '@lrocket The transition to argon was tricky, but necessary, as krypton is too rare',\n",
       " '@Erdayastronaut Propulsive landing FTW!',\n",
       " '@JayCartere @ScottAdamsSays I don’t agree with everything Scott says, but Dilbert is legit funny &amp; insightful.\\n\\nWe should stop canceling comedy!',\n",
       " '@diana_dukic @catturd2 Accurate',\n",
       " '@WarlordDilley @catturd2 🤣',\n",
       " '@catturd2 What about rightists admitting they’re wrong about being right? 🤔',\n",
       " '@dogeofficialceo 🤣🤣',\n",
       " '@dogeofficialceo @DavidDeutschOxf 🤣',\n",
       " '@DavidDeutschOxf Great way to understand to what degree one is wrong. \\n\\nWe are all always at least a little bit wrong, but can aspire to be less so.',\n",
       " ...]"
      ]
     },
     "execution_count": 12,
     "metadata": {},
     "output_type": "execute_result"
    }
   ],
   "source": [
    "tweets"
   ]
  },
  {
   "cell_type": "code",
   "execution_count": 48,
   "metadata": {},
   "outputs": [
    {
     "name": "stdout",
     "output_type": "stream",
     "text": [
      "167144\n"
     ]
    }
   ],
   "source": [
    "words = []\n",
    "\n",
    "for index, tweet in df.iterrows():\n",
    "    words.extend(prepareSentence(tweet['Tweet']))\n",
    "print(len(words))"
   ]
  },
  {
   "cell_type": "code",
   "execution_count": 49,
   "metadata": {},
   "outputs": [
    {
     "name": "stdout",
     "output_type": "stream",
     "text": [
      "167144\n",
      "19303\n",
      "2124\n"
     ]
    }
   ],
   "source": [
    "distinct_words = set(words)\n",
    "\n",
    "lower_threshold = 10\n",
    "upper_threshold = 350\n",
    "counts = []\n",
    "final_words = []\n",
    "for word in distinct_words:\n",
    "    counts.append(words.count(word))\n",
    "    if words.count(word) > lower_threshold and words.count(word) < upper_threshold: \n",
    "        final_words.append(word)\n",
    "\n",
    "print(len(words))\n",
    "print(len(distinct_words))\n",
    "print(len(final_words))"
   ]
  },
  {
   "cell_type": "code",
   "execution_count": 50,
   "metadata": {},
   "outputs": [],
   "source": [
    "def toBOW(sentence, words):\n",
    "    bag = []\n",
    "    for word in words:\n",
    "        bag.append(1) if word in sentence else bag.append(0)\n",
    "    return bag"
   ]
  },
  {
   "cell_type": "code",
   "execution_count": 51,
   "metadata": {},
   "outputs": [],
   "source": [
    "inputs = []\n",
    "outputs = []\n",
    "\n",
    "for index, tweet in df.iterrows():\n",
    "    sentence = prepareSentence(tweet['Tweet'])\n",
    "    bag = toBOW(sentence, final_words)\n",
    "    inputs.append(bag)\n",
    "    #Calculate a score, 1 if any engagement, 0 if none\n",
    "    score = min(tweet[\"Engagement\"],1)\n",
    "\n",
    "    outputs.append(score)"
   ]
  },
  {
   "cell_type": "code",
   "execution_count": 52,
   "metadata": {},
   "outputs": [
    {
     "data": {
      "text/plain": [
       "21601"
      ]
     },
     "execution_count": 52,
     "metadata": {},
     "output_type": "execute_result"
    }
   ],
   "source": [
    "len(inputs)"
   ]
  },
  {
   "cell_type": "code",
   "execution_count": 53,
   "metadata": {},
   "outputs": [
    {
     "data": {
      "text/plain": [
       "21601"
      ]
     },
     "execution_count": 53,
     "metadata": {},
     "output_type": "execute_result"
    }
   ],
   "source": [
    "len(outputs)"
   ]
  },
  {
   "cell_type": "code",
   "execution_count": 58,
   "metadata": {},
   "outputs": [],
   "source": [
    "x_train, x_test, y_train, y_test = train_test_split(inputs, outputs, test_size=0.3, random_state=42)"
   ]
  },
  {
   "cell_type": "code",
   "execution_count": 59,
   "metadata": {},
   "outputs": [
    {
     "data": {
      "text/html": [
       "<style>#sk-container-id-4 {color: black;background-color: white;}#sk-container-id-4 pre{padding: 0;}#sk-container-id-4 div.sk-toggleable {background-color: white;}#sk-container-id-4 label.sk-toggleable__label {cursor: pointer;display: block;width: 100%;margin-bottom: 0;padding: 0.3em;box-sizing: border-box;text-align: center;}#sk-container-id-4 label.sk-toggleable__label-arrow:before {content: \"▸\";float: left;margin-right: 0.25em;color: #696969;}#sk-container-id-4 label.sk-toggleable__label-arrow:hover:before {color: black;}#sk-container-id-4 div.sk-estimator:hover label.sk-toggleable__label-arrow:before {color: black;}#sk-container-id-4 div.sk-toggleable__content {max-height: 0;max-width: 0;overflow: hidden;text-align: left;background-color: #f0f8ff;}#sk-container-id-4 div.sk-toggleable__content pre {margin: 0.2em;color: black;border-radius: 0.25em;background-color: #f0f8ff;}#sk-container-id-4 input.sk-toggleable__control:checked~div.sk-toggleable__content {max-height: 200px;max-width: 100%;overflow: auto;}#sk-container-id-4 input.sk-toggleable__control:checked~label.sk-toggleable__label-arrow:before {content: \"▾\";}#sk-container-id-4 div.sk-estimator input.sk-toggleable__control:checked~label.sk-toggleable__label {background-color: #d4ebff;}#sk-container-id-4 div.sk-label input.sk-toggleable__control:checked~label.sk-toggleable__label {background-color: #d4ebff;}#sk-container-id-4 input.sk-hidden--visually {border: 0;clip: rect(1px 1px 1px 1px);clip: rect(1px, 1px, 1px, 1px);height: 1px;margin: -1px;overflow: hidden;padding: 0;position: absolute;width: 1px;}#sk-container-id-4 div.sk-estimator {font-family: monospace;background-color: #f0f8ff;border: 1px dotted black;border-radius: 0.25em;box-sizing: border-box;margin-bottom: 0.5em;}#sk-container-id-4 div.sk-estimator:hover {background-color: #d4ebff;}#sk-container-id-4 div.sk-parallel-item::after {content: \"\";width: 100%;border-bottom: 1px solid gray;flex-grow: 1;}#sk-container-id-4 div.sk-label:hover label.sk-toggleable__label {background-color: #d4ebff;}#sk-container-id-4 div.sk-serial::before {content: \"\";position: absolute;border-left: 1px solid gray;box-sizing: border-box;top: 0;bottom: 0;left: 50%;z-index: 0;}#sk-container-id-4 div.sk-serial {display: flex;flex-direction: column;align-items: center;background-color: white;padding-right: 0.2em;padding-left: 0.2em;position: relative;}#sk-container-id-4 div.sk-item {position: relative;z-index: 1;}#sk-container-id-4 div.sk-parallel {display: flex;align-items: stretch;justify-content: center;background-color: white;position: relative;}#sk-container-id-4 div.sk-item::before, #sk-container-id-4 div.sk-parallel-item::before {content: \"\";position: absolute;border-left: 1px solid gray;box-sizing: border-box;top: 0;bottom: 0;left: 50%;z-index: -1;}#sk-container-id-4 div.sk-parallel-item {display: flex;flex-direction: column;z-index: 1;position: relative;background-color: white;}#sk-container-id-4 div.sk-parallel-item:first-child::after {align-self: flex-end;width: 50%;}#sk-container-id-4 div.sk-parallel-item:last-child::after {align-self: flex-start;width: 50%;}#sk-container-id-4 div.sk-parallel-item:only-child::after {width: 0;}#sk-container-id-4 div.sk-dashed-wrapped {border: 1px dashed gray;margin: 0 0.4em 0.5em 0.4em;box-sizing: border-box;padding-bottom: 0.4em;background-color: white;}#sk-container-id-4 div.sk-label label {font-family: monospace;font-weight: bold;display: inline-block;line-height: 1.2em;}#sk-container-id-4 div.sk-label-container {text-align: center;}#sk-container-id-4 div.sk-container {/* jupyter's `normalize.less` sets `[hidden] { display: none; }` but bootstrap.min.css set `[hidden] { display: none !important; }` so we also need the `!important` here to be able to override the default hidden behavior on the sphinx rendered scikit-learn.org. See: https://github.com/scikit-learn/scikit-learn/issues/21755 */display: inline-block !important;position: relative;}#sk-container-id-4 div.sk-text-repr-fallback {display: none;}</style><div id=\"sk-container-id-4\" class=\"sk-top-container\"><div class=\"sk-text-repr-fallback\"><pre>MLPRegressor(hidden_layer_sizes=(7560, 3780), max_iter=400)</pre><b>In a Jupyter environment, please rerun this cell to show the HTML representation or trust the notebook. <br />On GitHub, the HTML representation is unable to render, please try loading this page with nbviewer.org.</b></div><div class=\"sk-container\" hidden><div class=\"sk-item\"><div class=\"sk-estimator sk-toggleable\"><input class=\"sk-toggleable__control sk-hidden--visually\" id=\"sk-estimator-id-4\" type=\"checkbox\" checked><label for=\"sk-estimator-id-4\" class=\"sk-toggleable__label sk-toggleable__label-arrow\">MLPRegressor</label><div class=\"sk-toggleable__content\"><pre>MLPRegressor(hidden_layer_sizes=(7560, 3780), max_iter=400)</pre></div></div></div></div></div>"
      ],
      "text/plain": [
       "MLPRegressor(hidden_layer_sizes=(7560, 3780), max_iter=400)"
      ]
     },
     "execution_count": 59,
     "metadata": {},
     "output_type": "execute_result"
    }
   ],
   "source": [
    "nnet = MLPRegressor(activation='relu', alpha=0.0001, hidden_layer_sizes=(int(len(x_train)*0.5),int(len(x_train)*0.25)),solver='adam', max_iter=400)\n",
    "nnet.fit(x_train, y_train)"
   ]
  },
  {
   "cell_type": "code",
   "execution_count": 60,
   "metadata": {},
   "outputs": [],
   "source": [
    "y_train_pred = nnet.predict(x_train)"
   ]
  },
  {
   "cell_type": "code",
   "execution_count": 61,
   "metadata": {},
   "outputs": [],
   "source": [
    "y_test_pred = nnet.predict(x_test)"
   ]
  },
  {
   "cell_type": "code",
   "execution_count": 62,
   "metadata": {},
   "outputs": [
    {
     "name": "stdout",
     "output_type": "stream",
     "text": [
      "MAE train: 0.01191221498055484, test: 0.015970703293792243\n",
      "RMSE train: 0.01760639375139032, test: 0.023535159499178834\n",
      "MSE train: 0.00030998510092899604, test: 0.0005539037326517877\n"
     ]
    }
   ],
   "source": [
    "print(f'MAE train: {metrics.mean_absolute_error(y_train, y_train_pred)}, test: {metrics.mean_absolute_error(y_test, y_test_pred)}')\n",
    "print(f'RMSE train: {np.sqrt(metrics.mean_squared_error(y_train, y_train_pred))}, test: {np.sqrt(metrics.mean_squared_error(y_test, y_test_pred))}')\n",
    "print(f'MSE train: {(mean_squared_error(y_train, y_train_pred))}, test: {(mean_squared_error(y_test, y_test_pred))}')"
   ]
  },
  {
   "cell_type": "code",
   "execution_count": 54,
   "metadata": {},
   "outputs": [
    {
     "data": {
      "text/html": [
       "<style>#sk-container-id-3 {color: black;background-color: white;}#sk-container-id-3 pre{padding: 0;}#sk-container-id-3 div.sk-toggleable {background-color: white;}#sk-container-id-3 label.sk-toggleable__label {cursor: pointer;display: block;width: 100%;margin-bottom: 0;padding: 0.3em;box-sizing: border-box;text-align: center;}#sk-container-id-3 label.sk-toggleable__label-arrow:before {content: \"▸\";float: left;margin-right: 0.25em;color: #696969;}#sk-container-id-3 label.sk-toggleable__label-arrow:hover:before {color: black;}#sk-container-id-3 div.sk-estimator:hover label.sk-toggleable__label-arrow:before {color: black;}#sk-container-id-3 div.sk-toggleable__content {max-height: 0;max-width: 0;overflow: hidden;text-align: left;background-color: #f0f8ff;}#sk-container-id-3 div.sk-toggleable__content pre {margin: 0.2em;color: black;border-radius: 0.25em;background-color: #f0f8ff;}#sk-container-id-3 input.sk-toggleable__control:checked~div.sk-toggleable__content {max-height: 200px;max-width: 100%;overflow: auto;}#sk-container-id-3 input.sk-toggleable__control:checked~label.sk-toggleable__label-arrow:before {content: \"▾\";}#sk-container-id-3 div.sk-estimator input.sk-toggleable__control:checked~label.sk-toggleable__label {background-color: #d4ebff;}#sk-container-id-3 div.sk-label input.sk-toggleable__control:checked~label.sk-toggleable__label {background-color: #d4ebff;}#sk-container-id-3 input.sk-hidden--visually {border: 0;clip: rect(1px 1px 1px 1px);clip: rect(1px, 1px, 1px, 1px);height: 1px;margin: -1px;overflow: hidden;padding: 0;position: absolute;width: 1px;}#sk-container-id-3 div.sk-estimator {font-family: monospace;background-color: #f0f8ff;border: 1px dotted black;border-radius: 0.25em;box-sizing: border-box;margin-bottom: 0.5em;}#sk-container-id-3 div.sk-estimator:hover {background-color: #d4ebff;}#sk-container-id-3 div.sk-parallel-item::after {content: \"\";width: 100%;border-bottom: 1px solid gray;flex-grow: 1;}#sk-container-id-3 div.sk-label:hover label.sk-toggleable__label {background-color: #d4ebff;}#sk-container-id-3 div.sk-serial::before {content: \"\";position: absolute;border-left: 1px solid gray;box-sizing: border-box;top: 0;bottom: 0;left: 50%;z-index: 0;}#sk-container-id-3 div.sk-serial {display: flex;flex-direction: column;align-items: center;background-color: white;padding-right: 0.2em;padding-left: 0.2em;position: relative;}#sk-container-id-3 div.sk-item {position: relative;z-index: 1;}#sk-container-id-3 div.sk-parallel {display: flex;align-items: stretch;justify-content: center;background-color: white;position: relative;}#sk-container-id-3 div.sk-item::before, #sk-container-id-3 div.sk-parallel-item::before {content: \"\";position: absolute;border-left: 1px solid gray;box-sizing: border-box;top: 0;bottom: 0;left: 50%;z-index: -1;}#sk-container-id-3 div.sk-parallel-item {display: flex;flex-direction: column;z-index: 1;position: relative;background-color: white;}#sk-container-id-3 div.sk-parallel-item:first-child::after {align-self: flex-end;width: 50%;}#sk-container-id-3 div.sk-parallel-item:last-child::after {align-self: flex-start;width: 50%;}#sk-container-id-3 div.sk-parallel-item:only-child::after {width: 0;}#sk-container-id-3 div.sk-dashed-wrapped {border: 1px dashed gray;margin: 0 0.4em 0.5em 0.4em;box-sizing: border-box;padding-bottom: 0.4em;background-color: white;}#sk-container-id-3 div.sk-label label {font-family: monospace;font-weight: bold;display: inline-block;line-height: 1.2em;}#sk-container-id-3 div.sk-label-container {text-align: center;}#sk-container-id-3 div.sk-container {/* jupyter's `normalize.less` sets `[hidden] { display: none; }` but bootstrap.min.css set `[hidden] { display: none !important; }` so we also need the `!important` here to be able to override the default hidden behavior on the sphinx rendered scikit-learn.org. See: https://github.com/scikit-learn/scikit-learn/issues/21755 */display: inline-block !important;position: relative;}#sk-container-id-3 div.sk-text-repr-fallback {display: none;}</style><div id=\"sk-container-id-3\" class=\"sk-top-container\"><div class=\"sk-text-repr-fallback\"><pre>MLPRegressor(hidden_layer_sizes=(1062, 531), max_iter=400)</pre><b>In a Jupyter environment, please rerun this cell to show the HTML representation or trust the notebook. <br />On GitHub, the HTML representation is unable to render, please try loading this page with nbviewer.org.</b></div><div class=\"sk-container\" hidden><div class=\"sk-item\"><div class=\"sk-estimator sk-toggleable\"><input class=\"sk-toggleable__control sk-hidden--visually\" id=\"sk-estimator-id-3\" type=\"checkbox\" checked><label for=\"sk-estimator-id-3\" class=\"sk-toggleable__label sk-toggleable__label-arrow\">MLPRegressor</label><div class=\"sk-toggleable__content\"><pre>MLPRegressor(hidden_layer_sizes=(1062, 531), max_iter=400)</pre></div></div></div></div></div>"
      ],
      "text/plain": [
       "MLPRegressor(hidden_layer_sizes=(1062, 531), max_iter=400)"
      ]
     },
     "execution_count": 54,
     "metadata": {},
     "output_type": "execute_result"
    }
   ],
   "source": [
    "# Define and training the network\n",
    "nnet = MLPRegressor(activation='relu', alpha=0.0001, hidden_layer_sizes=(int(len(final_words)*0.5),int(len(final_words)*0.25)),solver='adam', max_iter=400)\n",
    "nnet.fit(inputs, outputs)"
   ]
  },
  {
   "cell_type": "code",
   "execution_count": 57,
   "metadata": {},
   "outputs": [
    {
     "name": "stdout",
     "output_type": "stream",
     "text": [
      "Top 5 posts\n",
      "(\"Cybertruck is going to be a game-changer in the world of electric trucks. Can't wait to start production!\", 1.0163000704977478)\n",
      "(\"Who needs a boring old house when you can live in a sustainable, high-tech Mars colony? #ColonizeMarsThe Falcon Heavy launch was absolutely epic. Can't wait to see what we can achieve with it!\", 1.015804658645178)\n",
      "(\"The Hyperloop is going to change the way we travel forever. Who's ready for a 700 mph ride?\", 1.0081185127648657)\n",
      "('Boring Company flamethrowers are the ultimate tool for clearing brush and entertaining guests. #FlameOn', 1.0042685905810447)\n",
      "('Just landed on Mars. Time to start building a new world!', 1.0040125732489746)\n",
      "Bottom 5 posts\n",
      "('Sustainable energy is the only way forward. We need to invest in clean technology now more than ever.', 0.980505997344562)\n",
      "(\"SpaceX's Starlink internet service is going to connect the entire world. No more dead zones!\", 0.9806338733758235)\n",
      "(\"Life is too short to waste time on things that don't matter. Follow your dreams and make a difference.\", 0.9876500442131579)\n",
      "(\"If you're not pushing the limits of what's possible, you're not really living.\", 0.9904203518552714)\n",
      "('Neuralink is going to revolutionize the way we interact with technology. The possibilities are endless.', 0.991656579321063)\n"
     ]
    }
   ],
   "source": [
    "potential_posts = {}\n",
    "feed = [\n",
    "    'Just had an exhilarating ride in the new SpaceX rocket. The future is looking bright!',\n",
    "    \"Cybertruck is going to be a game-changer in the world of electric trucks. Can't wait to start production!\",\n",
    "    \"Neuralink is going to revolutionize the way we interact with technology. The possibilities are endless.\",\n",
    "    \"Who needs a boring old house when you can live in a sustainable, high-tech Mars colony? #ColonizeMars\"\n",
    "    \"The Falcon Heavy launch was absolutely epic. Can't wait to see what we can achieve with it!\",\n",
    "    \"Tesla's self-driving technology is going to change the world. Get ready for a wild ride!\",\n",
    "    \"Why settle for a boring old tunnel when you can have a hyperloop? #TheFutureIsHere\",\n",
    "    \"Just took the Tesla Roadster for a spin. It's so fast it'll make your head spin!\",\n",
    "    \"The Starship is the future of space travel. We're going to Mars and beyond!\",\n",
    "    \"If you're not pushing the limits of what's possible, you're not really living.\",\n",
    "    \"Tesla's Model S Plaid is the fastest production car ever made. Buckle up!\",\n",
    "    \"Just landed on Mars. Time to start building a new world!\",\n",
    "    \"Boring Company flamethrowers are the ultimate tool for clearing brush and entertaining guests. #FlameOn\",\n",
    "    \"Sustainable energy is the only way forward. We need to invest in clean technology now more than ever.\",\n",
    "    \"We need to take climate change seriously. Let's work together to save our planet.\",\n",
    "    \"The Hyperloop is going to change the way we travel forever. Who's ready for a 700 mph ride?\",\n",
    "    \"SpaceX's Starlink internet service is going to connect the entire world. No more dead zones!\",\n",
    "    \"Life is too short to waste time on things that don't matter. Follow your dreams and make a difference.\",\n",
    "    \"Tesla's Model Y is going to be a game-changer in the world of electric SUVs. Get ready for the future!\",\n",
    "    \"Neuralink's brain-machine interface is going to change the way we think about communication. It's going to be epic!\",\n",
    "    \"Never gonna give you up\"\n",
    "]\n",
    "for tweet in feed:\n",
    "    sentence = prepareSentence(tweet)\n",
    "    bag = toBOW(sentence, final_words)\n",
    "    potential_posts[tweet] = nnet.predict([bag])[0]\n",
    "\n",
    "x = sorted(potential_posts.items(), key=itemgetter(1), reverse=True)\n",
    "\n",
    "print(\"Top 5 posts\")\n",
    "for i in x[:5]:\n",
    "    print(i)\n",
    "    \n",
    "x = sorted(potential_posts.items(), key=itemgetter(1), reverse=False)\n",
    "    \n",
    "print(\"Bottom 5 posts\")\n",
    "for i in x[:5]:\n",
    "    print(i)"
   ]
  },
  {
   "cell_type": "code",
   "execution_count": 14,
   "metadata": {},
   "outputs": [],
   "source": [
    "from sklearn.model_selection import train_test_split"
   ]
  },
  {
   "cell_type": "code",
   "execution_count": 15,
   "metadata": {},
   "outputs": [],
   "source": [
    "# Removing Numbers From \"Tweet\" Column\n",
    "df['Tweet'] =  [re.sub(r'\\d+','', str(x)) for x in df['Tweet']]"
   ]
  },
  {
   "cell_type": "code",
   "execution_count": 16,
   "metadata": {},
   "outputs": [
    {
     "name": "stderr",
     "output_type": "stream",
     "text": [
      "C:\\Users\\Admin\\AppData\\Local\\Temp\\ipykernel_29376\\2799319037.py:2: FutureWarning: The default value of regex will change from True to False in a future version.\n",
      "  df[\"Tweet\"] = df['Tweet'].str.replace('[^\\w\\s]','')\n"
     ]
    }
   ],
   "source": [
    "# Removing Punctuations From \"Tweet\" Column\n",
    "df[\"Tweet\"] = df['Tweet'].str.replace('[^\\w\\s]','')"
   ]
  },
  {
   "cell_type": "code",
   "execution_count": 17,
   "metadata": {},
   "outputs": [],
   "source": [
    "# Removing Words In Tweets With Length Less Than 2\n",
    "pat = re.compile(r'\\b\\w{1,2}\\b')\n",
    "df[\"Tweet\"] = df[\"Tweet\"].apply(lambda s: pat.sub('', s))"
   ]
  },
  {
   "cell_type": "code",
   "execution_count": 18,
   "metadata": {},
   "outputs": [
    {
     "data": {
      "text/html": [
       "<div>\n",
       "<style scoped>\n",
       "    .dataframe tbody tr th:only-of-type {\n",
       "        vertical-align: middle;\n",
       "    }\n",
       "\n",
       "    .dataframe tbody tr th {\n",
       "        vertical-align: top;\n",
       "    }\n",
       "\n",
       "    .dataframe thead th {\n",
       "        text-align: right;\n",
       "    }\n",
       "</style>\n",
       "<table border=\"1\" class=\"dataframe\">\n",
       "  <thead>\n",
       "    <tr style=\"text-align: right;\">\n",
       "      <th></th>\n",
       "      <th>Unnamed: 0</th>\n",
       "      <th>User</th>\n",
       "      <th>Date Created</th>\n",
       "      <th>Number of Likes</th>\n",
       "      <th>Source of Tweet</th>\n",
       "      <th>Tweet</th>\n",
       "      <th>ReTweet Count</th>\n",
       "      <th>Reply Count</th>\n",
       "      <th>View Count</th>\n",
       "      <th>Engagement</th>\n",
       "      <th>compound</th>\n",
       "      <th>neg</th>\n",
       "      <th>neu</th>\n",
       "      <th>pos</th>\n",
       "    </tr>\n",
       "  </thead>\n",
       "  <tbody>\n",
       "    <tr>\n",
       "      <th>0</th>\n",
       "      <td>0</td>\n",
       "      <td>elonmusk</td>\n",
       "      <td>2023-04-06 20:31:24+00:00</td>\n",
       "      <td>1418</td>\n",
       "      <td>Twitter for iPhone</td>\n",
       "      <td>DirtyTesLa  are gradually reducing  proportion...</td>\n",
       "      <td>126</td>\n",
       "      <td>331</td>\n",
       "      <td>206454.0</td>\n",
       "      <td>1544</td>\n",
       "      <td>0.7096</td>\n",
       "      <td>0.0</td>\n",
       "      <td>0.576</td>\n",
       "      <td>0.424</td>\n",
       "    </tr>\n",
       "    <tr>\n",
       "      <th>1</th>\n",
       "      <td>1</td>\n",
       "      <td>elonmusk</td>\n",
       "      <td>2023-04-06 20:26:19+00:00</td>\n",
       "      <td>1174</td>\n",
       "      <td>Twitter for iPhone</td>\n",
       "      <td>GRDecter Any highly successful investor with  ...</td>\n",
       "      <td>84</td>\n",
       "      <td>142</td>\n",
       "      <td>59256.0</td>\n",
       "      <td>1258</td>\n",
       "      <td>0.7902</td>\n",
       "      <td>0.0</td>\n",
       "      <td>0.731</td>\n",
       "      <td>0.269</td>\n",
       "    </tr>\n",
       "    <tr>\n",
       "      <th>2</th>\n",
       "      <td>2</td>\n",
       "      <td>elonmusk</td>\n",
       "      <td>2023-04-06 20:17:48+00:00</td>\n",
       "      <td>1947</td>\n",
       "      <td>Twitter for iPhone</td>\n",
       "      <td>GRDecter Probably Buffett  could   using less ...</td>\n",
       "      <td>155</td>\n",
       "      <td>161</td>\n",
       "      <td>72716.0</td>\n",
       "      <td>2102</td>\n",
       "      <td>0.0000</td>\n",
       "      <td>0.0</td>\n",
       "      <td>1.000</td>\n",
       "      <td>0.000</td>\n",
       "    </tr>\n",
       "    <tr>\n",
       "      <th>3</th>\n",
       "      <td>3</td>\n",
       "      <td>elonmusk</td>\n",
       "      <td>2023-04-06 20:15:32+00:00</td>\n",
       "      <td>1604</td>\n",
       "      <td>Twitter for iPhone</td>\n",
       "      <td>cb_doge Actually will add this app   name  the...</td>\n",
       "      <td>114</td>\n",
       "      <td>283</td>\n",
       "      <td>78871.0</td>\n",
       "      <td>1718</td>\n",
       "      <td>0.0000</td>\n",
       "      <td>0.0</td>\n",
       "      <td>1.000</td>\n",
       "      <td>0.000</td>\n",
       "    </tr>\n",
       "    <tr>\n",
       "      <th>4</th>\n",
       "      <td>4</td>\n",
       "      <td>elonmusk</td>\n",
       "      <td>2023-04-06 20:13:36+00:00</td>\n",
       "      <td>9968</td>\n",
       "      <td>Twitter for iPhone</td>\n",
       "      <td>KanekoaTheGreat  this real</td>\n",
       "      <td>1260</td>\n",
       "      <td>1524</td>\n",
       "      <td>1290796.0</td>\n",
       "      <td>11228</td>\n",
       "      <td>0.0000</td>\n",
       "      <td>0.0</td>\n",
       "      <td>1.000</td>\n",
       "      <td>0.000</td>\n",
       "    </tr>\n",
       "  </tbody>\n",
       "</table>\n",
       "</div>"
      ],
      "text/plain": [
       "   Unnamed: 0      User               Date Created  Number of Likes  \\\n",
       "0           0  elonmusk  2023-04-06 20:31:24+00:00             1418   \n",
       "1           1  elonmusk  2023-04-06 20:26:19+00:00             1174   \n",
       "2           2  elonmusk  2023-04-06 20:17:48+00:00             1947   \n",
       "3           3  elonmusk  2023-04-06 20:15:32+00:00             1604   \n",
       "4           4  elonmusk  2023-04-06 20:13:36+00:00             9968   \n",
       "\n",
       "      Source of Tweet                                              Tweet  \\\n",
       "0  Twitter for iPhone  DirtyTesLa  are gradually reducing  proportion...   \n",
       "1  Twitter for iPhone  GRDecter Any highly successful investor with  ...   \n",
       "2  Twitter for iPhone  GRDecter Probably Buffett  could   using less ...   \n",
       "3  Twitter for iPhone  cb_doge Actually will add this app   name  the...   \n",
       "4  Twitter for iPhone                         KanekoaTheGreat  this real   \n",
       "\n",
       "   ReTweet Count  Reply Count  View Count  Engagement  compound  neg    neu  \\\n",
       "0            126          331    206454.0        1544    0.7096  0.0  0.576   \n",
       "1             84          142     59256.0        1258    0.7902  0.0  0.731   \n",
       "2            155          161     72716.0        2102    0.0000  0.0  1.000   \n",
       "3            114          283     78871.0        1718    0.0000  0.0  1.000   \n",
       "4           1260         1524   1290796.0       11228    0.0000  0.0  1.000   \n",
       "\n",
       "     pos  \n",
       "0  0.424  \n",
       "1  0.269  \n",
       "2  0.000  \n",
       "3  0.000  \n",
       "4  0.000  "
      ]
     },
     "execution_count": 18,
     "metadata": {},
     "output_type": "execute_result"
    }
   ],
   "source": [
    "df.head()"
   ]
  },
  {
   "cell_type": "code",
   "execution_count": 19,
   "metadata": {},
   "outputs": [],
   "source": [
    "from sklearn.feature_extraction.text import TfidfVectorizer"
   ]
  },
  {
   "cell_type": "code",
   "execution_count": 20,
   "metadata": {},
   "outputs": [],
   "source": [
    "df1 = df[['Tweet']]"
   ]
  },
  {
   "cell_type": "code",
   "execution_count": 21,
   "metadata": {},
   "outputs": [],
   "source": [
    "# Using TFIDF Vectorizer\n",
    "tfidf = TfidfVectorizer(max_features=20000, stop_words=stopwords.words('english'))\n",
    "vectorized_data = tfidf.fit_transform(df['Tweet'].values)"
   ]
  },
  {
   "cell_type": "code",
   "execution_count": 22,
   "metadata": {},
   "outputs": [],
   "source": [
    "vectorized_dataframe = pd.DataFrame(vectorized_data.toarray(), index=df['Tweet'].index.tolist())"
   ]
  },
  {
   "cell_type": "code",
   "execution_count": 23,
   "metadata": {},
   "outputs": [
    {
     "data": {
      "text/html": [
       "<div>\n",
       "<style scoped>\n",
       "    .dataframe tbody tr th:only-of-type {\n",
       "        vertical-align: middle;\n",
       "    }\n",
       "\n",
       "    .dataframe tbody tr th {\n",
       "        vertical-align: top;\n",
       "    }\n",
       "\n",
       "    .dataframe thead th {\n",
       "        text-align: right;\n",
       "    }\n",
       "</style>\n",
       "<table border=\"1\" class=\"dataframe\">\n",
       "  <thead>\n",
       "    <tr style=\"text-align: right;\">\n",
       "      <th></th>\n",
       "      <th>0</th>\n",
       "      <th>1</th>\n",
       "      <th>2</th>\n",
       "      <th>3</th>\n",
       "      <th>4</th>\n",
       "      <th>5</th>\n",
       "      <th>6</th>\n",
       "      <th>7</th>\n",
       "      <th>8</th>\n",
       "      <th>9</th>\n",
       "      <th>...</th>\n",
       "      <th>19990</th>\n",
       "      <th>19991</th>\n",
       "      <th>19992</th>\n",
       "      <th>19993</th>\n",
       "      <th>19994</th>\n",
       "      <th>19995</th>\n",
       "      <th>19996</th>\n",
       "      <th>19997</th>\n",
       "      <th>19998</th>\n",
       "      <th>19999</th>\n",
       "    </tr>\n",
       "  </thead>\n",
       "  <tbody>\n",
       "    <tr>\n",
       "      <th>0</th>\n",
       "      <td>0.0</td>\n",
       "      <td>0.0</td>\n",
       "      <td>0.0</td>\n",
       "      <td>0.0</td>\n",
       "      <td>0.0</td>\n",
       "      <td>0.0</td>\n",
       "      <td>0.0</td>\n",
       "      <td>0.0</td>\n",
       "      <td>0.0</td>\n",
       "      <td>0.0</td>\n",
       "      <td>...</td>\n",
       "      <td>0.0</td>\n",
       "      <td>0.0</td>\n",
       "      <td>0.0</td>\n",
       "      <td>0.0</td>\n",
       "      <td>0.0</td>\n",
       "      <td>0.0</td>\n",
       "      <td>0.0</td>\n",
       "      <td>0.0</td>\n",
       "      <td>0.0</td>\n",
       "      <td>0.0</td>\n",
       "    </tr>\n",
       "    <tr>\n",
       "      <th>1</th>\n",
       "      <td>0.0</td>\n",
       "      <td>0.0</td>\n",
       "      <td>0.0</td>\n",
       "      <td>0.0</td>\n",
       "      <td>0.0</td>\n",
       "      <td>0.0</td>\n",
       "      <td>0.0</td>\n",
       "      <td>0.0</td>\n",
       "      <td>0.0</td>\n",
       "      <td>0.0</td>\n",
       "      <td>...</td>\n",
       "      <td>0.0</td>\n",
       "      <td>0.0</td>\n",
       "      <td>0.0</td>\n",
       "      <td>0.0</td>\n",
       "      <td>0.0</td>\n",
       "      <td>0.0</td>\n",
       "      <td>0.0</td>\n",
       "      <td>0.0</td>\n",
       "      <td>0.0</td>\n",
       "      <td>0.0</td>\n",
       "    </tr>\n",
       "    <tr>\n",
       "      <th>2</th>\n",
       "      <td>0.0</td>\n",
       "      <td>0.0</td>\n",
       "      <td>0.0</td>\n",
       "      <td>0.0</td>\n",
       "      <td>0.0</td>\n",
       "      <td>0.0</td>\n",
       "      <td>0.0</td>\n",
       "      <td>0.0</td>\n",
       "      <td>0.0</td>\n",
       "      <td>0.0</td>\n",
       "      <td>...</td>\n",
       "      <td>0.0</td>\n",
       "      <td>0.0</td>\n",
       "      <td>0.0</td>\n",
       "      <td>0.0</td>\n",
       "      <td>0.0</td>\n",
       "      <td>0.0</td>\n",
       "      <td>0.0</td>\n",
       "      <td>0.0</td>\n",
       "      <td>0.0</td>\n",
       "      <td>0.0</td>\n",
       "    </tr>\n",
       "    <tr>\n",
       "      <th>3</th>\n",
       "      <td>0.0</td>\n",
       "      <td>0.0</td>\n",
       "      <td>0.0</td>\n",
       "      <td>0.0</td>\n",
       "      <td>0.0</td>\n",
       "      <td>0.0</td>\n",
       "      <td>0.0</td>\n",
       "      <td>0.0</td>\n",
       "      <td>0.0</td>\n",
       "      <td>0.0</td>\n",
       "      <td>...</td>\n",
       "      <td>0.0</td>\n",
       "      <td>0.0</td>\n",
       "      <td>0.0</td>\n",
       "      <td>0.0</td>\n",
       "      <td>0.0</td>\n",
       "      <td>0.0</td>\n",
       "      <td>0.0</td>\n",
       "      <td>0.0</td>\n",
       "      <td>0.0</td>\n",
       "      <td>0.0</td>\n",
       "    </tr>\n",
       "    <tr>\n",
       "      <th>4</th>\n",
       "      <td>0.0</td>\n",
       "      <td>0.0</td>\n",
       "      <td>0.0</td>\n",
       "      <td>0.0</td>\n",
       "      <td>0.0</td>\n",
       "      <td>0.0</td>\n",
       "      <td>0.0</td>\n",
       "      <td>0.0</td>\n",
       "      <td>0.0</td>\n",
       "      <td>0.0</td>\n",
       "      <td>...</td>\n",
       "      <td>0.0</td>\n",
       "      <td>0.0</td>\n",
       "      <td>0.0</td>\n",
       "      <td>0.0</td>\n",
       "      <td>0.0</td>\n",
       "      <td>0.0</td>\n",
       "      <td>0.0</td>\n",
       "      <td>0.0</td>\n",
       "      <td>0.0</td>\n",
       "      <td>0.0</td>\n",
       "    </tr>\n",
       "  </tbody>\n",
       "</table>\n",
       "<p>5 rows × 20000 columns</p>\n",
       "</div>"
      ],
      "text/plain": [
       "   0      1      2      3      4      5      6      7      8      9      ...  \\\n",
       "0    0.0    0.0    0.0    0.0    0.0    0.0    0.0    0.0    0.0    0.0  ...   \n",
       "1    0.0    0.0    0.0    0.0    0.0    0.0    0.0    0.0    0.0    0.0  ...   \n",
       "2    0.0    0.0    0.0    0.0    0.0    0.0    0.0    0.0    0.0    0.0  ...   \n",
       "3    0.0    0.0    0.0    0.0    0.0    0.0    0.0    0.0    0.0    0.0  ...   \n",
       "4    0.0    0.0    0.0    0.0    0.0    0.0    0.0    0.0    0.0    0.0  ...   \n",
       "\n",
       "   19990  19991  19992  19993  19994  19995  19996  19997  19998  19999  \n",
       "0    0.0    0.0    0.0    0.0    0.0    0.0    0.0    0.0    0.0    0.0  \n",
       "1    0.0    0.0    0.0    0.0    0.0    0.0    0.0    0.0    0.0    0.0  \n",
       "2    0.0    0.0    0.0    0.0    0.0    0.0    0.0    0.0    0.0    0.0  \n",
       "3    0.0    0.0    0.0    0.0    0.0    0.0    0.0    0.0    0.0    0.0  \n",
       "4    0.0    0.0    0.0    0.0    0.0    0.0    0.0    0.0    0.0    0.0  \n",
       "\n",
       "[5 rows x 20000 columns]"
      ]
     },
     "execution_count": 23,
     "metadata": {},
     "output_type": "execute_result"
    }
   ],
   "source": [
    "vectorized_dataframe.head()"
   ]
  },
  {
   "cell_type": "markdown",
   "metadata": {},
   "source": [
    "## **Dimensionality Reduction**\n",
    "\n",
    "We are gonna perform dimensionality reduction as performing regression with such huge dimensions would be extremely computationally expensive"
   ]
  },
  {
   "cell_type": "code",
   "execution_count": 24,
   "metadata": {},
   "outputs": [],
   "source": [
    "from sklearn.decomposition import TruncatedSVD"
   ]
  },
  {
   "cell_type": "code",
   "execution_count": 25,
   "metadata": {},
   "outputs": [
    {
     "name": "stdout",
     "output_type": "stream",
     "text": [
      "(21601, 10000)\n",
      "0.9661877116226325\n"
     ]
    }
   ],
   "source": [
    "# Using Truncated SVD to reduce the dimensions of the data\n",
    "number_of_dimensions = 10000\n",
    "svd = TruncatedSVD(n_components=number_of_dimensions)\n",
    "reduced_data = svd.fit_transform(vectorized_dataframe)\n",
    "print(reduced_data.shape)\n",
    "\n",
    "# List of explained variances\n",
    "tsvd_var_ratios = svd.explained_variance_ratio_\n",
    "\n",
    "var_explained = svd.explained_variance_ratio_.sum()\n",
    "print(var_explained)"
   ]
  },
  {
   "cell_type": "code",
   "execution_count": 26,
   "metadata": {},
   "outputs": [],
   "source": [
    "reduced_data = pd.DataFrame(reduced_data)"
   ]
  },
  {
   "cell_type": "code",
   "execution_count": 27,
   "metadata": {},
   "outputs": [
    {
     "data": {
      "text/plain": [
       "(21601, 14)"
      ]
     },
     "execution_count": 27,
     "metadata": {},
     "output_type": "execute_result"
    }
   ],
   "source": [
    "df.shape"
   ]
  },
  {
   "cell_type": "code",
   "execution_count": 24,
   "metadata": {},
   "outputs": [],
   "source": [
    "df_copy = df.copy(deep=True)\n",
    "y = df_copy['Number of Likes']\n",
    "x = df_copy[['neg', 'pos', 'compound' ,'neu']]"
   ]
  },
  {
   "cell_type": "code",
   "execution_count": 27,
   "metadata": {},
   "outputs": [],
   "source": [
    "x = pd.concat([x, vectorized_dataframe], axis=1, join=\"inner\")"
   ]
  },
  {
   "cell_type": "code",
   "execution_count": 28,
   "metadata": {},
   "outputs": [
    {
     "data": {
      "text/plain": [
       "(21601, 20004)"
      ]
     },
     "execution_count": 28,
     "metadata": {},
     "output_type": "execute_result"
    }
   ],
   "source": [
    "x.shape"
   ]
  },
  {
   "cell_type": "code",
   "execution_count": 29,
   "metadata": {},
   "outputs": [],
   "source": [
    "x_train, x_test, y_train, y_test = train_test_split(x, y, test_size=0.3, random_state=42)"
   ]
  },
  {
   "cell_type": "code",
   "execution_count": 37,
   "metadata": {},
   "outputs": [],
   "source": [
    "from sklearn.preprocessing import PolynomialFeatures"
   ]
  },
  {
   "cell_type": "code",
   "execution_count": 38,
   "metadata": {},
   "outputs": [
    {
     "name": "stderr",
     "output_type": "stream",
     "text": [
      "c:\\Users\\Admin\\AppData\\Local\\Programs\\Python\\Python310\\lib\\site-packages\\sklearn\\utils\\validation.py:1858: FutureWarning: Feature names only support names that are all strings. Got feature names with dtypes: ['int', 'str']. An error will be raised in 1.2.\n",
      "  warnings.warn(\n",
      "c:\\Users\\Admin\\AppData\\Local\\Programs\\Python\\Python310\\lib\\site-packages\\sklearn\\utils\\validation.py:1858: FutureWarning: Feature names only support names that are all strings. Got feature names with dtypes: ['int', 'str']. An error will be raised in 1.2.\n",
      "  warnings.warn(\n"
     ]
    },
    {
     "ename": "MemoryError",
     "evalue": "Unable to allocate 22.0 TiB for an array with shape (15120, 200110014) and data type float64",
     "output_type": "error",
     "traceback": [
      "\u001b[1;31m---------------------------------------------------------------------------\u001b[0m",
      "\u001b[1;31mMemoryError\u001b[0m                               Traceback (most recent call last)",
      "\u001b[1;32mc:\\Users\\Admin\\Desktop\\Sem 2\\AML 2304 2 Natural Language Processing\\Assignment 2\\project.ipynb Cell 39\u001b[0m in \u001b[0;36m2\n\u001b[0;32m      <a href='vscode-notebook-cell:/c%3A/Users/Admin/Desktop/Sem%202/AML%202304%202%20Natural%20Language%20Processing/Assignment%202/project.ipynb#Y146sZmlsZQ%3D%3D?line=0'>1</a>\u001b[0m poly \u001b[39m=\u001b[39m PolynomialFeatures(degree\u001b[39m=\u001b[39m\u001b[39m2\u001b[39m, include_bias\u001b[39m=\u001b[39m\u001b[39mFalse\u001b[39;00m)\n\u001b[1;32m----> <a href='vscode-notebook-cell:/c%3A/Users/Admin/Desktop/Sem%202/AML%202304%202%20Natural%20Language%20Processing/Assignment%202/project.ipynb#Y146sZmlsZQ%3D%3D?line=1'>2</a>\u001b[0m x_train \u001b[39m=\u001b[39m poly\u001b[39m.\u001b[39;49mfit_transform(x_train)\n\u001b[0;32m      <a href='vscode-notebook-cell:/c%3A/Users/Admin/Desktop/Sem%202/AML%202304%202%20Natural%20Language%20Processing/Assignment%202/project.ipynb#Y146sZmlsZQ%3D%3D?line=2'>3</a>\u001b[0m x_test \u001b[39m=\u001b[39m poly\u001b[39m.\u001b[39mtransform(x_test)\n",
      "File \u001b[1;32mc:\\Users\\Admin\\AppData\\Local\\Programs\\Python\\Python310\\lib\\site-packages\\sklearn\\base.py:867\u001b[0m, in \u001b[0;36mTransformerMixin.fit_transform\u001b[1;34m(self, X, y, **fit_params)\u001b[0m\n\u001b[0;32m    863\u001b[0m \u001b[39m# non-optimized default implementation; override when a better\u001b[39;00m\n\u001b[0;32m    864\u001b[0m \u001b[39m# method is possible for a given clustering algorithm\u001b[39;00m\n\u001b[0;32m    865\u001b[0m \u001b[39mif\u001b[39;00m y \u001b[39mis\u001b[39;00m \u001b[39mNone\u001b[39;00m:\n\u001b[0;32m    866\u001b[0m     \u001b[39m# fit method of arity 1 (unsupervised transformation)\u001b[39;00m\n\u001b[1;32m--> 867\u001b[0m     \u001b[39mreturn\u001b[39;00m \u001b[39mself\u001b[39;49m\u001b[39m.\u001b[39;49mfit(X, \u001b[39m*\u001b[39;49m\u001b[39m*\u001b[39;49mfit_params)\u001b[39m.\u001b[39;49mtransform(X)\n\u001b[0;32m    868\u001b[0m \u001b[39melse\u001b[39;00m:\n\u001b[0;32m    869\u001b[0m     \u001b[39m# fit method of arity 2 (supervised transformation)\u001b[39;00m\n\u001b[0;32m    870\u001b[0m     \u001b[39mreturn\u001b[39;00m \u001b[39mself\u001b[39m\u001b[39m.\u001b[39mfit(X, y, \u001b[39m*\u001b[39m\u001b[39m*\u001b[39mfit_params)\u001b[39m.\u001b[39mtransform(X)\n",
      "File \u001b[1;32mc:\\Users\\Admin\\AppData\\Local\\Programs\\Python\\Python310\\lib\\site-packages\\sklearn\\preprocessing\\_polynomial.py:432\u001b[0m, in \u001b[0;36mPolynomialFeatures.transform\u001b[1;34m(self, X)\u001b[0m\n\u001b[0;32m    428\u001b[0m     XP \u001b[39m=\u001b[39m sparse\u001b[39m.\u001b[39mhstack(columns, dtype\u001b[39m=\u001b[39mX\u001b[39m.\u001b[39mdtype)\u001b[39m.\u001b[39mtocsc()\n\u001b[0;32m    429\u001b[0m \u001b[39melse\u001b[39;00m:\n\u001b[0;32m    430\u001b[0m     \u001b[39m# Do as if _min_degree = 0 and cut down array after the\u001b[39;00m\n\u001b[0;32m    431\u001b[0m     \u001b[39m# computation, i.e. use _n_out_full instead of n_output_features_.\u001b[39;00m\n\u001b[1;32m--> 432\u001b[0m     XP \u001b[39m=\u001b[39m np\u001b[39m.\u001b[39;49mempty(\n\u001b[0;32m    433\u001b[0m         shape\u001b[39m=\u001b[39;49m(n_samples, \u001b[39mself\u001b[39;49m\u001b[39m.\u001b[39;49m_n_out_full), dtype\u001b[39m=\u001b[39;49mX\u001b[39m.\u001b[39;49mdtype, order\u001b[39m=\u001b[39;49m\u001b[39mself\u001b[39;49m\u001b[39m.\u001b[39;49morder\n\u001b[0;32m    434\u001b[0m     )\n\u001b[0;32m    436\u001b[0m     \u001b[39m# What follows is a faster implementation of:\u001b[39;00m\n\u001b[0;32m    437\u001b[0m     \u001b[39m# for i, comb in enumerate(combinations):\u001b[39;00m\n\u001b[0;32m    438\u001b[0m     \u001b[39m#     XP[:, i] = X[:, comb].prod(1)\u001b[39;00m\n\u001b[1;32m   (...)\u001b[0m\n\u001b[0;32m    448\u001b[0m \n\u001b[0;32m    449\u001b[0m     \u001b[39m# degree 0 term\u001b[39;00m\n\u001b[0;32m    450\u001b[0m     \u001b[39mif\u001b[39;00m \u001b[39mself\u001b[39m\u001b[39m.\u001b[39minclude_bias:\n",
      "\u001b[1;31mMemoryError\u001b[0m: Unable to allocate 22.0 TiB for an array with shape (15120, 200110014) and data type float64"
     ]
    }
   ],
   "source": [
    "poly = PolynomialFeatures(degree=2, include_bias=False)\n",
    "x_train = poly.fit_transform(x_train)\n",
    "x_test = poly.transform(x_test)"
   ]
  },
  {
   "cell_type": "code",
   "execution_count": 30,
   "metadata": {},
   "outputs": [],
   "source": [
    "from sklearn.ensemble import RandomForestRegressor"
   ]
  },
  {
   "cell_type": "code",
   "execution_count": 31,
   "metadata": {},
   "outputs": [
    {
     "name": "stderr",
     "output_type": "stream",
     "text": [
      "c:\\Users\\Admin\\AppData\\Local\\Programs\\Python\\Python310\\lib\\site-packages\\sklearn\\utils\\validation.py:1858: FutureWarning: Feature names only support names that are all strings. Got feature names with dtypes: ['int', 'str']. An error will be raised in 1.2.\n",
      "  warnings.warn(\n"
     ]
    },
    {
     "data": {
      "text/html": [
       "<style>#sk-container-id-1 {color: black;background-color: white;}#sk-container-id-1 pre{padding: 0;}#sk-container-id-1 div.sk-toggleable {background-color: white;}#sk-container-id-1 label.sk-toggleable__label {cursor: pointer;display: block;width: 100%;margin-bottom: 0;padding: 0.3em;box-sizing: border-box;text-align: center;}#sk-container-id-1 label.sk-toggleable__label-arrow:before {content: \"▸\";float: left;margin-right: 0.25em;color: #696969;}#sk-container-id-1 label.sk-toggleable__label-arrow:hover:before {color: black;}#sk-container-id-1 div.sk-estimator:hover label.sk-toggleable__label-arrow:before {color: black;}#sk-container-id-1 div.sk-toggleable__content {max-height: 0;max-width: 0;overflow: hidden;text-align: left;background-color: #f0f8ff;}#sk-container-id-1 div.sk-toggleable__content pre {margin: 0.2em;color: black;border-radius: 0.25em;background-color: #f0f8ff;}#sk-container-id-1 input.sk-toggleable__control:checked~div.sk-toggleable__content {max-height: 200px;max-width: 100%;overflow: auto;}#sk-container-id-1 input.sk-toggleable__control:checked~label.sk-toggleable__label-arrow:before {content: \"▾\";}#sk-container-id-1 div.sk-estimator input.sk-toggleable__control:checked~label.sk-toggleable__label {background-color: #d4ebff;}#sk-container-id-1 div.sk-label input.sk-toggleable__control:checked~label.sk-toggleable__label {background-color: #d4ebff;}#sk-container-id-1 input.sk-hidden--visually {border: 0;clip: rect(1px 1px 1px 1px);clip: rect(1px, 1px, 1px, 1px);height: 1px;margin: -1px;overflow: hidden;padding: 0;position: absolute;width: 1px;}#sk-container-id-1 div.sk-estimator {font-family: monospace;background-color: #f0f8ff;border: 1px dotted black;border-radius: 0.25em;box-sizing: border-box;margin-bottom: 0.5em;}#sk-container-id-1 div.sk-estimator:hover {background-color: #d4ebff;}#sk-container-id-1 div.sk-parallel-item::after {content: \"\";width: 100%;border-bottom: 1px solid gray;flex-grow: 1;}#sk-container-id-1 div.sk-label:hover label.sk-toggleable__label {background-color: #d4ebff;}#sk-container-id-1 div.sk-serial::before {content: \"\";position: absolute;border-left: 1px solid gray;box-sizing: border-box;top: 0;bottom: 0;left: 50%;z-index: 0;}#sk-container-id-1 div.sk-serial {display: flex;flex-direction: column;align-items: center;background-color: white;padding-right: 0.2em;padding-left: 0.2em;position: relative;}#sk-container-id-1 div.sk-item {position: relative;z-index: 1;}#sk-container-id-1 div.sk-parallel {display: flex;align-items: stretch;justify-content: center;background-color: white;position: relative;}#sk-container-id-1 div.sk-item::before, #sk-container-id-1 div.sk-parallel-item::before {content: \"\";position: absolute;border-left: 1px solid gray;box-sizing: border-box;top: 0;bottom: 0;left: 50%;z-index: -1;}#sk-container-id-1 div.sk-parallel-item {display: flex;flex-direction: column;z-index: 1;position: relative;background-color: white;}#sk-container-id-1 div.sk-parallel-item:first-child::after {align-self: flex-end;width: 50%;}#sk-container-id-1 div.sk-parallel-item:last-child::after {align-self: flex-start;width: 50%;}#sk-container-id-1 div.sk-parallel-item:only-child::after {width: 0;}#sk-container-id-1 div.sk-dashed-wrapped {border: 1px dashed gray;margin: 0 0.4em 0.5em 0.4em;box-sizing: border-box;padding-bottom: 0.4em;background-color: white;}#sk-container-id-1 div.sk-label label {font-family: monospace;font-weight: bold;display: inline-block;line-height: 1.2em;}#sk-container-id-1 div.sk-label-container {text-align: center;}#sk-container-id-1 div.sk-container {/* jupyter's `normalize.less` sets `[hidden] { display: none; }` but bootstrap.min.css set `[hidden] { display: none !important; }` so we also need the `!important` here to be able to override the default hidden behavior on the sphinx rendered scikit-learn.org. See: https://github.com/scikit-learn/scikit-learn/issues/21755 */display: inline-block !important;position: relative;}#sk-container-id-1 div.sk-text-repr-fallback {display: none;}</style><div id=\"sk-container-id-1\" class=\"sk-top-container\"><div class=\"sk-text-repr-fallback\"><pre>RandomForestRegressor(max_depth=2, random_state=0)</pre><b>In a Jupyter environment, please rerun this cell to show the HTML representation or trust the notebook. <br />On GitHub, the HTML representation is unable to render, please try loading this page with nbviewer.org.</b></div><div class=\"sk-container\" hidden><div class=\"sk-item\"><div class=\"sk-estimator sk-toggleable\"><input class=\"sk-toggleable__control sk-hidden--visually\" id=\"sk-estimator-id-1\" type=\"checkbox\" checked><label for=\"sk-estimator-id-1\" class=\"sk-toggleable__label sk-toggleable__label-arrow\">RandomForestRegressor</label><div class=\"sk-toggleable__content\"><pre>RandomForestRegressor(max_depth=2, random_state=0)</pre></div></div></div></div></div>"
      ],
      "text/plain": [
       "RandomForestRegressor(max_depth=2, random_state=0)"
      ]
     },
     "execution_count": 31,
     "metadata": {},
     "output_type": "execute_result"
    }
   ],
   "source": [
    "regr = RandomForestRegressor(max_depth=2, random_state=0)\n",
    "regr.fit(x_train, y_train)"
   ]
  },
  {
   "cell_type": "code",
   "execution_count": 32,
   "metadata": {},
   "outputs": [
    {
     "name": "stderr",
     "output_type": "stream",
     "text": [
      "c:\\Users\\Admin\\AppData\\Local\\Programs\\Python\\Python310\\lib\\site-packages\\sklearn\\utils\\validation.py:1858: FutureWarning: Feature names only support names that are all strings. Got feature names with dtypes: ['int', 'str']. An error will be raised in 1.2.\n",
      "  warnings.warn(\n"
     ]
    }
   ],
   "source": [
    "y_train_pred = regr.predict(x_train)"
   ]
  },
  {
   "cell_type": "code",
   "execution_count": 33,
   "metadata": {},
   "outputs": [
    {
     "name": "stderr",
     "output_type": "stream",
     "text": [
      "c:\\Users\\Admin\\AppData\\Local\\Programs\\Python\\Python310\\lib\\site-packages\\sklearn\\utils\\validation.py:1858: FutureWarning: Feature names only support names that are all strings. Got feature names with dtypes: ['int', 'str']. An error will be raised in 1.2.\n",
      "  warnings.warn(\n"
     ]
    }
   ],
   "source": [
    "y_test_pred = regr.predict(x_test)"
   ]
  },
  {
   "cell_type": "code",
   "execution_count": 34,
   "metadata": {},
   "outputs": [],
   "source": [
    "from sklearn import metrics\n",
    "from sklearn.metrics import mean_squared_error\n",
    "from sklearn.metrics import r2_score"
   ]
  },
  {
   "cell_type": "code",
   "execution_count": 35,
   "metadata": {},
   "outputs": [],
   "source": [
    "import numpy as np"
   ]
  },
  {
   "cell_type": "code",
   "execution_count": 36,
   "metadata": {},
   "outputs": [
    {
     "name": "stdout",
     "output_type": "stream",
     "text": [
      "MAE train: 51169.32904514804, test: 50413.39415588119\n",
      "RMSE train: 110654.17187098303, test: 107664.16521526489\n",
      "R^2 train: 0.1508096985523517, test: 0.001510765004574921\n",
      "MSE train: 12244345752.453053, test: 11591572471.499855\n"
     ]
    }
   ],
   "source": [
    "print(f'MAE train: {metrics.mean_absolute_error(y_train, y_train_pred)}, test: {metrics.mean_absolute_error(y_test, y_test_pred)}')\n",
    "print(f'RMSE train: {np.sqrt(metrics.mean_squared_error(y_train, y_train_pred))}, test: {np.sqrt(metrics.mean_squared_error(y_test, y_test_pred))}')\n",
    "print(f'R^2 train: {(r2_score(y_train, y_train_pred))}, test: {(r2_score(y_test, y_test_pred))}')\n",
    "print(f'MSE train: {(mean_squared_error(y_train, y_train_pred))}, test: {(mean_squared_error(y_test, y_test_pred))}')"
   ]
  },
  {
   "cell_type": "code",
   "execution_count": 39,
   "metadata": {},
   "outputs": [],
   "source": [
    "from sklearn.linear_model import LinearRegression"
   ]
  },
  {
   "cell_type": "code",
   "execution_count": 40,
   "metadata": {},
   "outputs": [],
   "source": [
    "clf = LinearRegression()"
   ]
  },
  {
   "cell_type": "code",
   "execution_count": 41,
   "metadata": {},
   "outputs": [
    {
     "name": "stderr",
     "output_type": "stream",
     "text": [
      "c:\\Users\\Admin\\AppData\\Local\\Programs\\Python\\Python310\\lib\\site-packages\\sklearn\\utils\\validation.py:1858: FutureWarning: Feature names only support names that are all strings. Got feature names with dtypes: ['int', 'str']. An error will be raised in 1.2.\n",
      "  warnings.warn(\n"
     ]
    },
    {
     "data": {
      "text/html": [
       "<style>#sk-container-id-2 {color: black;background-color: white;}#sk-container-id-2 pre{padding: 0;}#sk-container-id-2 div.sk-toggleable {background-color: white;}#sk-container-id-2 label.sk-toggleable__label {cursor: pointer;display: block;width: 100%;margin-bottom: 0;padding: 0.3em;box-sizing: border-box;text-align: center;}#sk-container-id-2 label.sk-toggleable__label-arrow:before {content: \"▸\";float: left;margin-right: 0.25em;color: #696969;}#sk-container-id-2 label.sk-toggleable__label-arrow:hover:before {color: black;}#sk-container-id-2 div.sk-estimator:hover label.sk-toggleable__label-arrow:before {color: black;}#sk-container-id-2 div.sk-toggleable__content {max-height: 0;max-width: 0;overflow: hidden;text-align: left;background-color: #f0f8ff;}#sk-container-id-2 div.sk-toggleable__content pre {margin: 0.2em;color: black;border-radius: 0.25em;background-color: #f0f8ff;}#sk-container-id-2 input.sk-toggleable__control:checked~div.sk-toggleable__content {max-height: 200px;max-width: 100%;overflow: auto;}#sk-container-id-2 input.sk-toggleable__control:checked~label.sk-toggleable__label-arrow:before {content: \"▾\";}#sk-container-id-2 div.sk-estimator input.sk-toggleable__control:checked~label.sk-toggleable__label {background-color: #d4ebff;}#sk-container-id-2 div.sk-label input.sk-toggleable__control:checked~label.sk-toggleable__label {background-color: #d4ebff;}#sk-container-id-2 input.sk-hidden--visually {border: 0;clip: rect(1px 1px 1px 1px);clip: rect(1px, 1px, 1px, 1px);height: 1px;margin: -1px;overflow: hidden;padding: 0;position: absolute;width: 1px;}#sk-container-id-2 div.sk-estimator {font-family: monospace;background-color: #f0f8ff;border: 1px dotted black;border-radius: 0.25em;box-sizing: border-box;margin-bottom: 0.5em;}#sk-container-id-2 div.sk-estimator:hover {background-color: #d4ebff;}#sk-container-id-2 div.sk-parallel-item::after {content: \"\";width: 100%;border-bottom: 1px solid gray;flex-grow: 1;}#sk-container-id-2 div.sk-label:hover label.sk-toggleable__label {background-color: #d4ebff;}#sk-container-id-2 div.sk-serial::before {content: \"\";position: absolute;border-left: 1px solid gray;box-sizing: border-box;top: 0;bottom: 0;left: 50%;z-index: 0;}#sk-container-id-2 div.sk-serial {display: flex;flex-direction: column;align-items: center;background-color: white;padding-right: 0.2em;padding-left: 0.2em;position: relative;}#sk-container-id-2 div.sk-item {position: relative;z-index: 1;}#sk-container-id-2 div.sk-parallel {display: flex;align-items: stretch;justify-content: center;background-color: white;position: relative;}#sk-container-id-2 div.sk-item::before, #sk-container-id-2 div.sk-parallel-item::before {content: \"\";position: absolute;border-left: 1px solid gray;box-sizing: border-box;top: 0;bottom: 0;left: 50%;z-index: -1;}#sk-container-id-2 div.sk-parallel-item {display: flex;flex-direction: column;z-index: 1;position: relative;background-color: white;}#sk-container-id-2 div.sk-parallel-item:first-child::after {align-self: flex-end;width: 50%;}#sk-container-id-2 div.sk-parallel-item:last-child::after {align-self: flex-start;width: 50%;}#sk-container-id-2 div.sk-parallel-item:only-child::after {width: 0;}#sk-container-id-2 div.sk-dashed-wrapped {border: 1px dashed gray;margin: 0 0.4em 0.5em 0.4em;box-sizing: border-box;padding-bottom: 0.4em;background-color: white;}#sk-container-id-2 div.sk-label label {font-family: monospace;font-weight: bold;display: inline-block;line-height: 1.2em;}#sk-container-id-2 div.sk-label-container {text-align: center;}#sk-container-id-2 div.sk-container {/* jupyter's `normalize.less` sets `[hidden] { display: none; }` but bootstrap.min.css set `[hidden] { display: none !important; }` so we also need the `!important` here to be able to override the default hidden behavior on the sphinx rendered scikit-learn.org. See: https://github.com/scikit-learn/scikit-learn/issues/21755 */display: inline-block !important;position: relative;}#sk-container-id-2 div.sk-text-repr-fallback {display: none;}</style><div id=\"sk-container-id-2\" class=\"sk-top-container\"><div class=\"sk-text-repr-fallback\"><pre>LinearRegression()</pre><b>In a Jupyter environment, please rerun this cell to show the HTML representation or trust the notebook. <br />On GitHub, the HTML representation is unable to render, please try loading this page with nbviewer.org.</b></div><div class=\"sk-container\" hidden><div class=\"sk-item\"><div class=\"sk-estimator sk-toggleable\"><input class=\"sk-toggleable__control sk-hidden--visually\" id=\"sk-estimator-id-2\" type=\"checkbox\" checked><label for=\"sk-estimator-id-2\" class=\"sk-toggleable__label sk-toggleable__label-arrow\">LinearRegression</label><div class=\"sk-toggleable__content\"><pre>LinearRegression()</pre></div></div></div></div></div>"
      ],
      "text/plain": [
       "LinearRegression()"
      ]
     },
     "execution_count": 41,
     "metadata": {},
     "output_type": "execute_result"
    }
   ],
   "source": [
    "clf.fit(x_train, y_train)"
   ]
  },
  {
   "cell_type": "code",
   "execution_count": 42,
   "metadata": {},
   "outputs": [
    {
     "name": "stderr",
     "output_type": "stream",
     "text": [
      "c:\\Users\\Admin\\AppData\\Local\\Programs\\Python\\Python310\\lib\\site-packages\\sklearn\\utils\\validation.py:1858: FutureWarning: Feature names only support names that are all strings. Got feature names with dtypes: ['int', 'str']. An error will be raised in 1.2.\n",
      "  warnings.warn(\n"
     ]
    }
   ],
   "source": [
    "y_train_pred = clf.predict(x_train)"
   ]
  },
  {
   "cell_type": "code",
   "execution_count": 43,
   "metadata": {},
   "outputs": [
    {
     "name": "stderr",
     "output_type": "stream",
     "text": [
      "c:\\Users\\Admin\\AppData\\Local\\Programs\\Python\\Python310\\lib\\site-packages\\sklearn\\utils\\validation.py:1858: FutureWarning: Feature names only support names that are all strings. Got feature names with dtypes: ['int', 'str']. An error will be raised in 1.2.\n",
      "  warnings.warn(\n"
     ]
    }
   ],
   "source": [
    "y_test_pred = clf.predict(x_test)"
   ]
  },
  {
   "cell_type": "code",
   "execution_count": 44,
   "metadata": {},
   "outputs": [
    {
     "name": "stdout",
     "output_type": "stream",
     "text": [
      "MAE train: 24700.946257073476, test: 6.2021337090668744e+16\n",
      "RMSE train: 54221.64044023593, test: 2.7640308401127754e+17\n",
      "R^2 train: 0.7961011640755955, test: -6.580922873859397e+24\n",
      "MSE train: 2939986292.0302286, test: 7.639866485094535e+34\n"
     ]
    }
   ],
   "source": [
    "print(f'MAE train: {metrics.mean_absolute_error(y_train, y_train_pred)}, test: {metrics.mean_absolute_error(y_test, y_test_pred)}')\n",
    "print(f'RMSE train: {np.sqrt(metrics.mean_squared_error(y_train, y_train_pred))}, test: {np.sqrt(metrics.mean_squared_error(y_test, y_test_pred))}')\n",
    "print(f'R^2 train: {(r2_score(y_train, y_train_pred))}, test: {(r2_score(y_test, y_test_pred))}')\n",
    "print(f'MSE train: {(mean_squared_error(y_train, y_train_pred))}, test: {(mean_squared_error(y_test, y_test_pred))}')"
   ]
  },
  {
   "cell_type": "code",
   "execution_count": 45,
   "metadata": {},
   "outputs": [],
   "source": [
    "from sklearn.ensemble import GradientBoostingClassifier"
   ]
  },
  {
   "cell_type": "code",
   "execution_count": 46,
   "metadata": {},
   "outputs": [
    {
     "name": "stderr",
     "output_type": "stream",
     "text": [
      "c:\\Users\\Admin\\AppData\\Local\\Programs\\Python\\Python310\\lib\\site-packages\\sklearn\\utils\\validation.py:1858: FutureWarning: Feature names only support names that are all strings. Got feature names with dtypes: ['int', 'str']. An error will be raised in 1.2.\n",
      "  warnings.warn(\n"
     ]
    },
    {
     "ename": "KeyboardInterrupt",
     "evalue": "",
     "output_type": "error",
     "traceback": [
      "\u001b[1;31m---------------------------------------------------------------------------\u001b[0m",
      "\u001b[1;31mKeyboardInterrupt\u001b[0m                         Traceback (most recent call last)",
      "\u001b[1;32mc:\\Users\\Admin\\Desktop\\Sem 2\\AML 2304 2 Natural Language Processing\\Assignment 2\\project.ipynb Cell 55\u001b[0m in \u001b[0;36m1\n\u001b[1;32m----> <a href='vscode-notebook-cell:/c%3A/Users/Admin/Desktop/Sem%202/AML%202304%202%20Natural%20Language%20Processing/Assignment%202/project.ipynb#Y153sZmlsZQ%3D%3D?line=0'>1</a>\u001b[0m clf \u001b[39m=\u001b[39m GradientBoostingClassifier(n_estimators\u001b[39m=\u001b[39;49m\u001b[39m100\u001b[39;49m, learning_rate\u001b[39m=\u001b[39;49m\u001b[39m1.0\u001b[39;49m, max_depth\u001b[39m=\u001b[39;49m\u001b[39m1\u001b[39;49m, random_state\u001b[39m=\u001b[39;49m\u001b[39m0\u001b[39;49m)\u001b[39m.\u001b[39;49mfit(x_train, y_train)\n\u001b[0;32m      <a href='vscode-notebook-cell:/c%3A/Users/Admin/Desktop/Sem%202/AML%202304%202%20Natural%20Language%20Processing/Assignment%202/project.ipynb#Y153sZmlsZQ%3D%3D?line=1'>2</a>\u001b[0m clf\u001b[39m.\u001b[39mscore(x_test, y_test)\n",
      "File \u001b[1;32mc:\\Users\\Admin\\AppData\\Local\\Programs\\Python\\Python310\\lib\\site-packages\\sklearn\\ensemble\\_gb.py:668\u001b[0m, in \u001b[0;36mBaseGradientBoosting.fit\u001b[1;34m(self, X, y, sample_weight, monitor)\u001b[0m\n\u001b[0;32m    665\u001b[0m     \u001b[39mself\u001b[39m\u001b[39m.\u001b[39m_resize_state()\n\u001b[0;32m    667\u001b[0m \u001b[39m# fit the boosting stages\u001b[39;00m\n\u001b[1;32m--> 668\u001b[0m n_stages \u001b[39m=\u001b[39m \u001b[39mself\u001b[39;49m\u001b[39m.\u001b[39;49m_fit_stages(\n\u001b[0;32m    669\u001b[0m     X,\n\u001b[0;32m    670\u001b[0m     y,\n\u001b[0;32m    671\u001b[0m     raw_predictions,\n\u001b[0;32m    672\u001b[0m     sample_weight,\n\u001b[0;32m    673\u001b[0m     \u001b[39mself\u001b[39;49m\u001b[39m.\u001b[39;49m_rng,\n\u001b[0;32m    674\u001b[0m     X_val,\n\u001b[0;32m    675\u001b[0m     y_val,\n\u001b[0;32m    676\u001b[0m     sample_weight_val,\n\u001b[0;32m    677\u001b[0m     begin_at_stage,\n\u001b[0;32m    678\u001b[0m     monitor,\n\u001b[0;32m    679\u001b[0m )\n\u001b[0;32m    681\u001b[0m \u001b[39m# change shape of arrays after fit (early-stopping or additional ests)\u001b[39;00m\n\u001b[0;32m    682\u001b[0m \u001b[39mif\u001b[39;00m n_stages \u001b[39m!=\u001b[39m \u001b[39mself\u001b[39m\u001b[39m.\u001b[39mestimators_\u001b[39m.\u001b[39mshape[\u001b[39m0\u001b[39m]:\n",
      "File \u001b[1;32mc:\\Users\\Admin\\AppData\\Local\\Programs\\Python\\Python310\\lib\\site-packages\\sklearn\\ensemble\\_gb.py:745\u001b[0m, in \u001b[0;36mBaseGradientBoosting._fit_stages\u001b[1;34m(self, X, y, raw_predictions, sample_weight, random_state, X_val, y_val, sample_weight_val, begin_at_stage, monitor)\u001b[0m\n\u001b[0;32m    738\u001b[0m     old_oob_score \u001b[39m=\u001b[39m loss_(\n\u001b[0;32m    739\u001b[0m         y[\u001b[39m~\u001b[39msample_mask],\n\u001b[0;32m    740\u001b[0m         raw_predictions[\u001b[39m~\u001b[39msample_mask],\n\u001b[0;32m    741\u001b[0m         sample_weight[\u001b[39m~\u001b[39msample_mask],\n\u001b[0;32m    742\u001b[0m     )\n\u001b[0;32m    744\u001b[0m \u001b[39m# fit next stage of trees\u001b[39;00m\n\u001b[1;32m--> 745\u001b[0m raw_predictions \u001b[39m=\u001b[39m \u001b[39mself\u001b[39;49m\u001b[39m.\u001b[39;49m_fit_stage(\n\u001b[0;32m    746\u001b[0m     i,\n\u001b[0;32m    747\u001b[0m     X,\n\u001b[0;32m    748\u001b[0m     y,\n\u001b[0;32m    749\u001b[0m     raw_predictions,\n\u001b[0;32m    750\u001b[0m     sample_weight,\n\u001b[0;32m    751\u001b[0m     sample_mask,\n\u001b[0;32m    752\u001b[0m     random_state,\n\u001b[0;32m    753\u001b[0m     X_csc,\n\u001b[0;32m    754\u001b[0m     X_csr,\n\u001b[0;32m    755\u001b[0m )\n\u001b[0;32m    757\u001b[0m \u001b[39m# track deviance (= loss)\u001b[39;00m\n\u001b[0;32m    758\u001b[0m \u001b[39mif\u001b[39;00m do_oob:\n",
      "File \u001b[1;32mc:\\Users\\Admin\\AppData\\Local\\Programs\\Python\\Python310\\lib\\site-packages\\sklearn\\ensemble\\_gb.py:223\u001b[0m, in \u001b[0;36mBaseGradientBoosting._fit_stage\u001b[1;34m(self, i, X, y, raw_predictions, sample_weight, sample_mask, random_state, X_csc, X_csr)\u001b[0m\n\u001b[0;32m    220\u001b[0m \u001b[39mif\u001b[39;00m loss\u001b[39m.\u001b[39mis_multi_class:\n\u001b[0;32m    221\u001b[0m     y \u001b[39m=\u001b[39m np\u001b[39m.\u001b[39marray(original_y \u001b[39m==\u001b[39m k, dtype\u001b[39m=\u001b[39mnp\u001b[39m.\u001b[39mfloat64)\n\u001b[1;32m--> 223\u001b[0m residual \u001b[39m=\u001b[39m loss\u001b[39m.\u001b[39;49mnegative_gradient(\n\u001b[0;32m    224\u001b[0m     y, raw_predictions_copy, k\u001b[39m=\u001b[39;49mk, sample_weight\u001b[39m=\u001b[39;49msample_weight\n\u001b[0;32m    225\u001b[0m )\n\u001b[0;32m    227\u001b[0m \u001b[39m# induce regression tree on residuals\u001b[39;00m\n\u001b[0;32m    228\u001b[0m tree \u001b[39m=\u001b[39m DecisionTreeRegressor(\n\u001b[0;32m    229\u001b[0m     criterion\u001b[39m=\u001b[39m\u001b[39mself\u001b[39m\u001b[39m.\u001b[39mcriterion,\n\u001b[0;32m    230\u001b[0m     splitter\u001b[39m=\u001b[39m\u001b[39m\"\u001b[39m\u001b[39mbest\u001b[39m\u001b[39m\"\u001b[39m,\n\u001b[1;32m   (...)\u001b[0m\n\u001b[0;32m    239\u001b[0m     ccp_alpha\u001b[39m=\u001b[39m\u001b[39mself\u001b[39m\u001b[39m.\u001b[39mccp_alpha,\n\u001b[0;32m    240\u001b[0m )\n",
      "File \u001b[1;32mc:\\Users\\Admin\\AppData\\Local\\Programs\\Python\\Python310\\lib\\site-packages\\sklearn\\ensemble\\_gb_losses.py:823\u001b[0m, in \u001b[0;36mMultinomialDeviance.negative_gradient\u001b[1;34m(self, y, raw_predictions, k, **kwargs)\u001b[0m\n\u001b[0;32m    807\u001b[0m \u001b[39mdef\u001b[39;00m \u001b[39mnegative_gradient\u001b[39m(\u001b[39mself\u001b[39m, y, raw_predictions, k\u001b[39m=\u001b[39m\u001b[39m0\u001b[39m, \u001b[39m*\u001b[39m\u001b[39m*\u001b[39mkwargs):\n\u001b[0;32m    808\u001b[0m     \u001b[39m\"\"\"Compute negative gradient for the ``k``-th class.\u001b[39;00m\n\u001b[0;32m    809\u001b[0m \n\u001b[0;32m    810\u001b[0m \u001b[39m    Parameters\u001b[39;00m\n\u001b[1;32m   (...)\u001b[0m\n\u001b[0;32m    820\u001b[0m \u001b[39m        The index of the class.\u001b[39;00m\n\u001b[0;32m    821\u001b[0m \u001b[39m    \"\"\"\u001b[39;00m\n\u001b[0;32m    822\u001b[0m     \u001b[39mreturn\u001b[39;00m y \u001b[39m-\u001b[39m np\u001b[39m.\u001b[39mnan_to_num(\n\u001b[1;32m--> 823\u001b[0m         np\u001b[39m.\u001b[39mexp(raw_predictions[:, k] \u001b[39m-\u001b[39m logsumexp(raw_predictions, axis\u001b[39m=\u001b[39;49m\u001b[39m1\u001b[39;49m))\n\u001b[0;32m    824\u001b[0m     )\n",
      "File \u001b[1;32mc:\\Users\\Admin\\AppData\\Local\\Programs\\Python\\Python310\\lib\\site-packages\\scipy\\special\\_logsumexp.py:110\u001b[0m, in \u001b[0;36mlogsumexp\u001b[1;34m(a, axis, b, keepdims, return_sign)\u001b[0m\n\u001b[0;32m    108\u001b[0m     tmp \u001b[39m=\u001b[39m b \u001b[39m*\u001b[39m np\u001b[39m.\u001b[39mexp(a \u001b[39m-\u001b[39m a_max)\n\u001b[0;32m    109\u001b[0m \u001b[39melse\u001b[39;00m:\n\u001b[1;32m--> 110\u001b[0m     tmp \u001b[39m=\u001b[39m np\u001b[39m.\u001b[39;49mexp(a \u001b[39m-\u001b[39;49m a_max)\n\u001b[0;32m    112\u001b[0m \u001b[39m# suppress warnings about log of zero\u001b[39;00m\n\u001b[0;32m    113\u001b[0m \u001b[39mwith\u001b[39;00m np\u001b[39m.\u001b[39merrstate(divide\u001b[39m=\u001b[39m\u001b[39m'\u001b[39m\u001b[39mignore\u001b[39m\u001b[39m'\u001b[39m):\n",
      "\u001b[1;31mKeyboardInterrupt\u001b[0m: "
     ]
    }
   ],
   "source": [
    "clf = GradientBoostingClassifier(n_estimators=100, learning_rate=1.0, max_depth=1, random_state=0).fit(x_train, y_train)\n",
    "clf.score(x_test, y_test)"
   ]
  },
  {
   "cell_type": "code",
   "execution_count": 56,
   "metadata": {},
   "outputs": [
    {
     "name": "stderr",
     "output_type": "stream",
     "text": [
      "c:\\Users\\Admin\\AppData\\Local\\Programs\\Python\\Python310\\lib\\site-packages\\sklearn\\utils\\validation.py:1858: FutureWarning: Feature names only support names that are all strings. Got feature names with dtypes: ['int', 'str']. An error will be raised in 1.2.\n",
      "  warnings.warn(\n",
      "c:\\Users\\Admin\\AppData\\Local\\Programs\\Python\\Python310\\lib\\site-packages\\sklearn\\neural_network\\_multilayer_perceptron.py:709: UserWarning: Training interrupted by user.\n",
      "  warnings.warn(\"Training interrupted by user.\")\n"
     ]
    },
    {
     "data": {
      "text/html": [
       "<style>#sk-container-id-5 {color: black;background-color: white;}#sk-container-id-5 pre{padding: 0;}#sk-container-id-5 div.sk-toggleable {background-color: white;}#sk-container-id-5 label.sk-toggleable__label {cursor: pointer;display: block;width: 100%;margin-bottom: 0;padding: 0.3em;box-sizing: border-box;text-align: center;}#sk-container-id-5 label.sk-toggleable__label-arrow:before {content: \"▸\";float: left;margin-right: 0.25em;color: #696969;}#sk-container-id-5 label.sk-toggleable__label-arrow:hover:before {color: black;}#sk-container-id-5 div.sk-estimator:hover label.sk-toggleable__label-arrow:before {color: black;}#sk-container-id-5 div.sk-toggleable__content {max-height: 0;max-width: 0;overflow: hidden;text-align: left;background-color: #f0f8ff;}#sk-container-id-5 div.sk-toggleable__content pre {margin: 0.2em;color: black;border-radius: 0.25em;background-color: #f0f8ff;}#sk-container-id-5 input.sk-toggleable__control:checked~div.sk-toggleable__content {max-height: 200px;max-width: 100%;overflow: auto;}#sk-container-id-5 input.sk-toggleable__control:checked~label.sk-toggleable__label-arrow:before {content: \"▾\";}#sk-container-id-5 div.sk-estimator input.sk-toggleable__control:checked~label.sk-toggleable__label {background-color: #d4ebff;}#sk-container-id-5 div.sk-label input.sk-toggleable__control:checked~label.sk-toggleable__label {background-color: #d4ebff;}#sk-container-id-5 input.sk-hidden--visually {border: 0;clip: rect(1px 1px 1px 1px);clip: rect(1px, 1px, 1px, 1px);height: 1px;margin: -1px;overflow: hidden;padding: 0;position: absolute;width: 1px;}#sk-container-id-5 div.sk-estimator {font-family: monospace;background-color: #f0f8ff;border: 1px dotted black;border-radius: 0.25em;box-sizing: border-box;margin-bottom: 0.5em;}#sk-container-id-5 div.sk-estimator:hover {background-color: #d4ebff;}#sk-container-id-5 div.sk-parallel-item::after {content: \"\";width: 100%;border-bottom: 1px solid gray;flex-grow: 1;}#sk-container-id-5 div.sk-label:hover label.sk-toggleable__label {background-color: #d4ebff;}#sk-container-id-5 div.sk-serial::before {content: \"\";position: absolute;border-left: 1px solid gray;box-sizing: border-box;top: 0;bottom: 0;left: 50%;z-index: 0;}#sk-container-id-5 div.sk-serial {display: flex;flex-direction: column;align-items: center;background-color: white;padding-right: 0.2em;padding-left: 0.2em;position: relative;}#sk-container-id-5 div.sk-item {position: relative;z-index: 1;}#sk-container-id-5 div.sk-parallel {display: flex;align-items: stretch;justify-content: center;background-color: white;position: relative;}#sk-container-id-5 div.sk-item::before, #sk-container-id-5 div.sk-parallel-item::before {content: \"\";position: absolute;border-left: 1px solid gray;box-sizing: border-box;top: 0;bottom: 0;left: 50%;z-index: -1;}#sk-container-id-5 div.sk-parallel-item {display: flex;flex-direction: column;z-index: 1;position: relative;background-color: white;}#sk-container-id-5 div.sk-parallel-item:first-child::after {align-self: flex-end;width: 50%;}#sk-container-id-5 div.sk-parallel-item:last-child::after {align-self: flex-start;width: 50%;}#sk-container-id-5 div.sk-parallel-item:only-child::after {width: 0;}#sk-container-id-5 div.sk-dashed-wrapped {border: 1px dashed gray;margin: 0 0.4em 0.5em 0.4em;box-sizing: border-box;padding-bottom: 0.4em;background-color: white;}#sk-container-id-5 div.sk-label label {font-family: monospace;font-weight: bold;display: inline-block;line-height: 1.2em;}#sk-container-id-5 div.sk-label-container {text-align: center;}#sk-container-id-5 div.sk-container {/* jupyter's `normalize.less` sets `[hidden] { display: none; }` but bootstrap.min.css set `[hidden] { display: none !important; }` so we also need the `!important` here to be able to override the default hidden behavior on the sphinx rendered scikit-learn.org. See: https://github.com/scikit-learn/scikit-learn/issues/21755 */display: inline-block !important;position: relative;}#sk-container-id-5 div.sk-text-repr-fallback {display: none;}</style><div id=\"sk-container-id-5\" class=\"sk-top-container\"><div class=\"sk-text-repr-fallback\"><pre>MLPRegressor(hidden_layer_sizes=(7560, 3780), max_iter=400)</pre><b>In a Jupyter environment, please rerun this cell to show the HTML representation or trust the notebook. <br />On GitHub, the HTML representation is unable to render, please try loading this page with nbviewer.org.</b></div><div class=\"sk-container\" hidden><div class=\"sk-item\"><div class=\"sk-estimator sk-toggleable\"><input class=\"sk-toggleable__control sk-hidden--visually\" id=\"sk-estimator-id-5\" type=\"checkbox\" checked><label for=\"sk-estimator-id-5\" class=\"sk-toggleable__label sk-toggleable__label-arrow\">MLPRegressor</label><div class=\"sk-toggleable__content\"><pre>MLPRegressor(hidden_layer_sizes=(7560, 3780), max_iter=400)</pre></div></div></div></div></div>"
      ],
      "text/plain": [
       "MLPRegressor(hidden_layer_sizes=(7560, 3780), max_iter=400)"
      ]
     },
     "execution_count": 56,
     "metadata": {},
     "output_type": "execute_result"
    }
   ],
   "source": [
    "nnet = MLPRegressor(activation='relu', alpha=0.0001, hidden_layer_sizes=(int(len(x_train)*0.5),int(len(x_train)*0.25)),solver='adam', max_iter=400)\n",
    "nnet.fit(x_train, y_train)"
   ]
  },
  {
   "cell_type": "code",
   "execution_count": 57,
   "metadata": {},
   "outputs": [
    {
     "name": "stderr",
     "output_type": "stream",
     "text": [
      "c:\\Users\\Admin\\AppData\\Local\\Programs\\Python\\Python310\\lib\\site-packages\\sklearn\\utils\\validation.py:1858: FutureWarning: Feature names only support names that are all strings. Got feature names with dtypes: ['int', 'str']. An error will be raised in 1.2.\n",
      "  warnings.warn(\n"
     ]
    }
   ],
   "source": [
    "y_train_pred = nnet.predict(x_train)"
   ]
  },
  {
   "cell_type": "code",
   "execution_count": 58,
   "metadata": {},
   "outputs": [
    {
     "name": "stderr",
     "output_type": "stream",
     "text": [
      "c:\\Users\\Admin\\AppData\\Local\\Programs\\Python\\Python310\\lib\\site-packages\\sklearn\\utils\\validation.py:1858: FutureWarning: Feature names only support names that are all strings. Got feature names with dtypes: ['int', 'str']. An error will be raised in 1.2.\n",
      "  warnings.warn(\n"
     ]
    }
   ],
   "source": [
    "y_test_pred = nnet.predict(x_test)"
   ]
  },
  {
   "cell_type": "code",
   "execution_count": 59,
   "metadata": {},
   "outputs": [
    {
     "name": "stdout",
     "output_type": "stream",
     "text": [
      "MAE train: 48028.725382592704, test: 46744.34170374717\n",
      "RMSE train: 117520.99316274395, test: 105325.26209288149\n",
      "R^2 train: 0.04214372899770791, test: 0.044422029427198306\n",
      "MSE train: 13811183833.957712, test: 11093410834.934177\n"
     ]
    }
   ],
   "source": [
    "print(f'MAE train: {metrics.mean_absolute_error(y_train, y_train_pred)}, test: {metrics.mean_absolute_error(y_test, y_test_pred)}')\n",
    "print(f'RMSE train: {np.sqrt(metrics.mean_squared_error(y_train, y_train_pred))}, test: {np.sqrt(metrics.mean_squared_error(y_test, y_test_pred))}')\n",
    "print(f'R^2 train: {(r2_score(y_train, y_train_pred))}, test: {(r2_score(y_test, y_test_pred))}')\n",
    "print(f'MSE train: {(mean_squared_error(y_train, y_train_pred))}, test: {(mean_squared_error(y_test, y_test_pred))}')"
   ]
  },
  {
   "cell_type": "code",
   "execution_count": null,
   "metadata": {},
   "outputs": [],
   "source": []
  }
 ],
 "metadata": {
  "kernelspec": {
   "display_name": "Python 3 (ipykernel)",
   "language": "python",
   "name": "python3"
  },
  "language_info": {
   "codemirror_mode": {
    "name": "ipython",
    "version": 3
   },
   "file_extension": ".py",
   "mimetype": "text/x-python",
   "name": "python",
   "nbconvert_exporter": "python",
   "pygments_lexer": "ipython3",
   "version": "3.9.13"
  }
 },
 "nbformat": 4,
 "nbformat_minor": 2
}
